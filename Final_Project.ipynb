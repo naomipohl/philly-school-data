{
 "cells": [
  {
   "cell_type": "markdown",
   "metadata": {},
   "source": [
    "# Final Project"
   ]
  },
  {
   "cell_type": "markdown",
   "metadata": {},
   "source": [
    "Introduction: Our project seeks to explore factors influencing, and influenced by, teacher attendance in the Philadelphia school system. Using (mostly) 2013 data we constructed 6 hypotheses. First, we hypothesized that school environment, weather and teacher salary would influence teacher attendance. Second, we hypothesized that out of school suspension rate (OSS), occurrence of serious incidents in schools, and school ranking would be influenced by teacher attendance."
   ]
  },
  {
   "cell_type": "markdown",
   "metadata": {},
   "source": [
    "# Part 1: Hypotheses regarding factors affected by teacher attendance: suspension rate, serious incident rate, and rank of school."
   ]
  },
  {
   "cell_type": "code",
   "execution_count": 189,
   "metadata": {
    "collapsed": true
   },
   "outputs": [],
   "source": [
    "import pandas as pd\n",
    "import numpy as np\n",
    "import math\n",
    "import random\n",
    "import matplotlib.pyplot as plt\n",
    "import plotly\n",
    "import plotly.plotly as py\n",
    "import plotly.graph_objs as go"
   ]
  },
  {
   "cell_type": "code",
   "execution_count": 190,
   "metadata": {
    "collapsed": true
   },
   "outputs": [],
   "source": [
    "%matplotlib inline"
   ]
  },
  {
   "cell_type": "code",
   "execution_count": 191,
   "metadata": {
    "collapsed": true
   },
   "outputs": [],
   "source": [
    "def standardize(anylist):\n",
    "    '''convert any array of numbers to std units '''\n",
    "    return (anylist - np.mean(anylist)) / np.std(anylist)"
   ]
  },
  {
   "cell_type": "code",
   "execution_count": 192,
   "metadata": {
    "collapsed": true
   },
   "outputs": [],
   "source": [
    "def correlation(df, x, y):\n",
    "    '''correlation between two columns of a dataframe '''\n",
    "    return np.mean(standardize(df[x]) * standardize(df[y]))"
   ]
  },
  {
   "cell_type": "code",
   "execution_count": 193,
   "metadata": {
    "collapsed": true
   },
   "outputs": [],
   "source": [
    "def slope(df, x, y):\n",
    "    r = correlation(df, x, y)\n",
    "    return r * np.std(df[y]) / np.std(df[x])"
   ]
  },
  {
   "cell_type": "markdown",
   "metadata": {},
   "source": [
    "## Hypothesis 1: Higher teacher attendance leads to fewer students receiving one-time suspensions (OSS)"
   ]
  },
  {
   "cell_type": "code",
   "execution_count": 194,
   "metadata": {
    "collapsed": true
   },
   "outputs": [],
   "source": [
    "# Load the data\n",
    "data13 = pd.read_csv('/Users/naomi/Desktop/CIS105/FinalProject/data/data13.csv')"
   ]
  },
  {
   "cell_type": "code",
   "execution_count": 195,
   "metadata": {
    "collapsed": true
   },
   "outputs": [],
   "source": [
    "ta13 = pd.read_csv('/Users/naomi/Desktop/CIS105/FinalProject/data/TeacherAttendance/attendance_2013.csv')"
   ]
  },
  {
   "cell_type": "code",
   "execution_count": 196,
   "metadata": {
    "collapsed": true
   },
   "outputs": [],
   "source": [
    "merged = data13.merge(ta13, on='ULCS_NO')"
   ]
  },
  {
   "cell_type": "code",
   "execution_count": 197,
   "metadata": {
    "collapsed": true
   },
   "outputs": [],
   "source": [
    "# Do some data cleaning\n",
    "# Get rid of percent signs in Percent columns\n",
    "def get_num(percent):\n",
    "    return percent[:-1]"
   ]
  },
  {
   "cell_type": "code",
   "execution_count": 198,
   "metadata": {
    "collapsed": true
   },
   "outputs": [],
   "source": [
    "# Find percent of students suspended once\n",
    "merged['percent_one_time_susp'] = (merged['sch_one_time_susp'] / merged['Total Enrolled']) * 100"
   ]
  },
  {
   "cell_type": "code",
   "execution_count": 199,
   "metadata": {
    "collapsed": true
   },
   "outputs": [],
   "source": [
    "merged['white_percent_num'] = merged['White Percent'].apply(get_num)"
   ]
  },
  {
   "cell_type": "code",
   "execution_count": 200,
   "metadata": {},
   "outputs": [
    {
     "data": {
      "text/plain": [
       "<matplotlib.text.Text at 0x11eaad6a0>"
      ]
     },
     "execution_count": 200,
     "metadata": {},
     "output_type": "execute_result"
    },
    {
     "data": {
      "image/png": "[encoded data removed]",
      "text/plain": [
       "<matplotlib.figure.Figure at 0x11eaa61d0>"
      ]
     },
     "metadata": {},
     "output_type": "display_data"
    }
   ],
   "source": [
    "# Plot the data\n",
    "plt.scatter(merged['SCH_TEACHER_ATTEND_x'], merged['percent_one_time_susp'])\n",
    "plt.xlabel('Teacher attendance (# Days in school)')\n",
    "plt.ylabel('% of Students receiving One-time Suspensions')"
   ]
  },
  {
   "cell_type": "markdown",
   "metadata": {},
   "source": [
    "### We can see a negative correlation- is it statistically significant?\n",
    "## Hypothesis testing <br>\n",
    "### H0: There is no correlation between teacher attendance and % student suspensions <br>\n",
    "### H1: There is a negative correlation between teacher attendance and % student suspensions"
   ]
  },
  {
   "cell_type": "markdown",
   "metadata": {},
   "source": [
    "Observed value of statistic:"
   ]
  },
  {
   "cell_type": "code",
   "execution_count": 201,
   "metadata": {
    "collapsed": true
   },
   "outputs": [],
   "source": [
    "orig_slope, b = np.polyfit(merged['SCH_TEACHER_ATTEND_x'], merged['percent_one_time_susp'], 1)"
   ]
  },
  {
   "cell_type": "code",
   "execution_count": 202,
   "metadata": {},
   "outputs": [
    {
     "data": {
      "text/plain": [
       "-0.56988288053427683"
      ]
     },
     "execution_count": 202,
     "metadata": {},
     "output_type": "execute_result"
    }
   ],
   "source": [
    "orig_slope"
   ]
  },
  {
   "cell_type": "markdown",
   "metadata": {},
   "source": [
    "Run a simulation in order to compute the distribution of the statistic under the null hypothesis. \n",
    "\n",
    "Plot a histogram for this statistic."
   ]
  },
  {
   "cell_type": "code",
   "execution_count": 203,
   "metadata": {
    "collapsed": true
   },
   "outputs": [],
   "source": [
    "merged = merged.pivot_table('SCH_TEACHER_ATTEND_x', index=['School Name', 'percent_one_time_susp', 'white_percent_num'])"
   ]
  },
  {
   "cell_type": "code",
   "execution_count": 204,
   "metadata": {
    "collapsed": true
   },
   "outputs": [],
   "source": [
    "merged = merged.reset_index()"
   ]
  },
  {
   "cell_type": "code",
   "execution_count": 205,
   "metadata": {
    "collapsed": true
   },
   "outputs": [],
   "source": [
    "slopes = []\n",
    "num_samples = 5000\n",
    "for x in np.arange(1, num_samples): \n",
    "    indices = np.random.choice(np.arange(0, len(merged)), len(merged), replace = False)\n",
    "    teach_attend = merged['SCH_TEACHER_ATTEND_x'][indices]\n",
    "    score = merged['percent_one_time_susp']\n",
    "    m, b = np.polyfit(teach_attend, score, 1)\n",
    "    slopes.append(m)"
   ]
  },
  {
   "cell_type": "code",
   "execution_count": 206,
   "metadata": {},
   "outputs": [
    {
     "data": {
      "text/plain": [
       "(array([    3.,    21.,   120.,   468.,  1091.,  1498.,  1156.,   507.,\n",
       "          119.,    16.]),\n",
       " array([-0.74020148, -0.60588495, -0.47156842, -0.33725188, -0.20293535,\n",
       "        -0.06861882,  0.06569771,  0.20001425,  0.33433078,  0.46864731,\n",
       "         0.60296384]),\n",
       " <a list of 10 Patch objects>)"
      ]
     },
     "execution_count": 206,
     "metadata": {},
     "output_type": "execute_result"
    },
    {
     "data": {
      "image/png": "[encoded data removed]",
      "text/plain": [
       "<matplotlib.figure.Figure at 0x11c51f668>"
      ]
     },
     "metadata": {},
     "output_type": "display_data"
    }
   ],
   "source": [
    "plt.figure(figsize = (8, 5))\n",
    "plt.xlabel(\"Slopes\")\n",
    "plt.ylabel(\"Frequency\")\n",
    "plt.title(\"Correlation between % of students receiving one-time suspensions and teacher attendance\")\n",
    "plt.hist(slopes)"
   ]
  },
  {
   "cell_type": "markdown",
   "metadata": {},
   "source": [
    "What is the p value of your observed statistic?"
   ]
  },
  {
   "cell_type": "code",
   "execution_count": 207,
   "metadata": {},
   "outputs": [
    {
     "data": {
      "text/plain": [
       "-0.56988288053427683"
      ]
     },
     "execution_count": 207,
     "metadata": {},
     "output_type": "execute_result"
    }
   ],
   "source": [
    "orig_slope"
   ]
  },
  {
   "cell_type": "code",
   "execution_count": 208,
   "metadata": {
    "collapsed": true
   },
   "outputs": [],
   "source": [
    "p_value = np.sum(np.array(slopes) < (orig_slope)) / num_samples"
   ]
  },
  {
   "cell_type": "code",
   "execution_count": 209,
   "metadata": {},
   "outputs": [
    {
     "data": {
      "text/plain": [
       "0.00080000000000000004"
      ]
     },
     "execution_count": 209,
     "metadata": {},
     "output_type": "execute_result"
    }
   ],
   "source": [
    "p_value"
   ]
  },
  {
   "cell_type": "markdown",
   "metadata": {},
   "source": [
    "Since we have a p-value of ~0, we can reject our null hypothesis and conclude that there is a statistically significant negative correlation between teacher attendance and percent of students receiving one-time suspensions."
   ]
  },
  {
   "cell_type": "markdown",
   "metadata": {},
   "source": [
    "## Hypothesis 2: Higher teacher attendance leads to fewer serious incidents"
   ]
  },
  {
   "cell_type": "code",
   "execution_count": 210,
   "metadata": {},
   "outputs": [
    {
     "data": {
      "text/plain": [
       "array(['Unnamed: 0', 'ULCS_NO', 'INCIDENT_TYPE', 'INCIDENT_COUNT',\n",
       "       'SCHOOL_ID', 'School Name', 'Total Enrolled', '# Econ Disad',\n",
       "       '% Econ Disad', 'Native Count', 'Native Percent', 'Asian Count',\n",
       "       'Asian Percent', 'Black Count', 'Black Percent', 'Hispanic Count',\n",
       "       'Hispanic Percent', 'Multi Count', 'Multi Percent', 'Pacific Count',\n",
       "       'Pacific Percent', 'White Count', 'White Percent',\n",
       "       'total_students_suspended', 'sch_one_time_susp',\n",
       "       'sch_two_time_susp', 'sch_three_time_susp',\n",
       "       'sch_more_than_three_susp', 'SCH_TEACHER_ATTEND',\n",
       "       'SDP_TEACHER_ATTEND'], dtype=object)"
      ]
     },
     "execution_count": 210,
     "metadata": {},
     "output_type": "execute_result"
    }
   ],
   "source": [
    "data13.columns.values"
   ]
  },
  {
   "cell_type": "code",
   "execution_count": 211,
   "metadata": {
    "collapsed": true
   },
   "outputs": [],
   "source": [
    "# Find serious incidents as a percentage of student enrollment\n",
    "data13['INCIDENT_COUNT%'] = (data13['INCIDENT_COUNT'] / data13['Total Enrolled']) * 100"
   ]
  },
  {
   "cell_type": "code",
   "execution_count": 212,
   "metadata": {
    "collapsed": true
   },
   "outputs": [],
   "source": [
    "data13_1 = data13[['SCH_TEACHER_ATTEND', 'ULCS_NO', 'INCIDENT_COUNT%']]"
   ]
  },
  {
   "cell_type": "code",
   "execution_count": 213,
   "metadata": {},
   "outputs": [
    {
     "data": {
      "text/html": [
       "<div>\n",
       "<style>\n",
       "    .dataframe thead tr:only-child th {\n",
       "        text-align: right;\n",
       "    }\n",
       "\n",
       "    .dataframe thead th {\n",
       "        text-align: left;\n",
       "    }\n",
       "\n",
       "    .dataframe tbody tr th {\n",
       "        vertical-align: top;\n",
       "    }\n",
       "</style>\n",
       "<table border=\"1\" class=\"dataframe\">\n",
       "  <thead>\n",
       "    <tr style=\"text-align: right;\">\n",
       "      <th></th>\n",
       "      <th>SCH_TEACHER_ATTEND</th>\n",
       "      <th>ULCS_NO</th>\n",
       "      <th>INCIDENT_COUNT%</th>\n",
       "    </tr>\n",
       "  </thead>\n",
       "  <tbody>\n",
       "    <tr>\n",
       "      <th>0</th>\n",
       "      <td>92.0</td>\n",
       "      <td>5260</td>\n",
       "      <td>0.111857</td>\n",
       "    </tr>\n",
       "    <tr>\n",
       "      <th>1</th>\n",
       "      <td>92.0</td>\n",
       "      <td>5260</td>\n",
       "      <td>2.460850</td>\n",
       "    </tr>\n",
       "    <tr>\n",
       "      <th>2</th>\n",
       "      <td>92.0</td>\n",
       "      <td>5260</td>\n",
       "      <td>0.000000</td>\n",
       "    </tr>\n",
       "    <tr>\n",
       "      <th>3</th>\n",
       "      <td>92.0</td>\n",
       "      <td>5260</td>\n",
       "      <td>0.000000</td>\n",
       "    </tr>\n",
       "    <tr>\n",
       "      <th>4</th>\n",
       "      <td>92.0</td>\n",
       "      <td>5260</td>\n",
       "      <td>0.000000</td>\n",
       "    </tr>\n",
       "  </tbody>\n",
       "</table>\n",
       "</div>"
      ],
      "text/plain": [
       "   SCH_TEACHER_ATTEND  ULCS_NO  INCIDENT_COUNT%\n",
       "0                92.0     5260         0.111857\n",
       "1                92.0     5260         2.460850\n",
       "2                92.0     5260         0.000000\n",
       "3                92.0     5260         0.000000\n",
       "4                92.0     5260         0.000000"
      ]
     },
     "execution_count": 213,
     "metadata": {},
     "output_type": "execute_result"
    }
   ],
   "source": [
    "data13_1.head()"
   ]
  },
  {
   "cell_type": "code",
   "execution_count": 214,
   "metadata": {
    "collapsed": true
   },
   "outputs": [],
   "source": [
    "data13_2 = data13_1.pivot_table(['INCIDENT_COUNT%', 'SCH_TEACHER_ATTEND'], index = 'ULCS_NO')"
   ]
  },
  {
   "cell_type": "code",
   "execution_count": 215,
   "metadata": {
    "collapsed": true
   },
   "outputs": [],
   "source": [
    "data13_2 = data13_2.reset_index()"
   ]
  },
  {
   "cell_type": "code",
   "execution_count": 216,
   "metadata": {},
   "outputs": [
    {
     "data": {
      "text/html": [
       "<div>\n",
       "<style>\n",
       "    .dataframe thead tr:only-child th {\n",
       "        text-align: right;\n",
       "    }\n",
       "\n",
       "    .dataframe thead th {\n",
       "        text-align: left;\n",
       "    }\n",
       "\n",
       "    .dataframe tbody tr th {\n",
       "        vertical-align: top;\n",
       "    }\n",
       "</style>\n",
       "<table border=\"1\" class=\"dataframe\">\n",
       "  <thead>\n",
       "    <tr style=\"text-align: right;\">\n",
       "      <th></th>\n",
       "      <th>ULCS_NO</th>\n",
       "      <th>INCIDENT_COUNT%</th>\n",
       "      <th>SCH_TEACHER_ATTEND</th>\n",
       "    </tr>\n",
       "  </thead>\n",
       "  <tbody>\n",
       "    <tr>\n",
       "      <th>0</th>\n",
       "      <td>1010</td>\n",
       "      <td>0.533748</td>\n",
       "      <td>90.9</td>\n",
       "    </tr>\n",
       "    <tr>\n",
       "      <th>1</th>\n",
       "      <td>1020</td>\n",
       "      <td>0.632799</td>\n",
       "      <td>94.5</td>\n",
       "    </tr>\n",
       "    <tr>\n",
       "      <th>2</th>\n",
       "      <td>1030</td>\n",
       "      <td>1.135786</td>\n",
       "      <td>93.0</td>\n",
       "    </tr>\n",
       "    <tr>\n",
       "      <th>3</th>\n",
       "      <td>1050</td>\n",
       "      <td>0.110988</td>\n",
       "      <td>94.7</td>\n",
       "    </tr>\n",
       "    <tr>\n",
       "      <th>4</th>\n",
       "      <td>1100</td>\n",
       "      <td>0.676528</td>\n",
       "      <td>94.1</td>\n",
       "    </tr>\n",
       "  </tbody>\n",
       "</table>\n",
       "</div>"
      ],
      "text/plain": [
       "   ULCS_NO  INCIDENT_COUNT%  SCH_TEACHER_ATTEND\n",
       "0     1010         0.533748                90.9\n",
       "1     1020         0.632799                94.5\n",
       "2     1030         1.135786                93.0\n",
       "3     1050         0.110988                94.7\n",
       "4     1100         0.676528                94.1"
      ]
     },
     "execution_count": 216,
     "metadata": {},
     "output_type": "execute_result"
    }
   ],
   "source": [
    "data13_2.head()"
   ]
  },
  {
   "cell_type": "code",
   "execution_count": 217,
   "metadata": {},
   "outputs": [
    {
     "data": {
      "text/plain": [
       "<matplotlib.text.Text at 0x11c7448d0>"
      ]
     },
     "execution_count": 217,
     "metadata": {},
     "output_type": "execute_result"
    },
    {
     "data": {
      "image/png": "[encoded data removed]",
      "text/plain": [
       "<matplotlib.figure.Figure at 0x11c608630>"
      ]
     },
     "metadata": {},
     "output_type": "display_data"
    }
   ],
   "source": [
    "# Plot the data\n",
    "plt.scatter(data13_2['SCH_TEACHER_ATTEND'], data13_2['INCIDENT_COUNT%'])\n",
    "plt.xlabel('Teacher attendance (# Days in school)')\n",
    "plt.ylabel('Serious Incidents (% student body)')"
   ]
  },
  {
   "cell_type": "markdown",
   "metadata": {},
   "source": [
    "### We can see a negative correlation- is it statistically significant?\n",
    "## Hypothesis testing <br>\n",
    "### H0: There is no correlation between teacher attendance and serious incidents, as a percentage of total student body <br>\n",
    "### H1: There is a negative correlation between teacher attendance and serious incidents"
   ]
  },
  {
   "cell_type": "code",
   "execution_count": 218,
   "metadata": {
    "collapsed": true
   },
   "outputs": [],
   "source": [
    "orig_slope_si, b_si = np.polyfit(data13_2['SCH_TEACHER_ATTEND'], data13_2['INCIDENT_COUNT%'], 1)"
   ]
  },
  {
   "cell_type": "code",
   "execution_count": 219,
   "metadata": {},
   "outputs": [
    {
     "data": {
      "text/plain": [
       "-0.021190434966939155"
      ]
     },
     "execution_count": 219,
     "metadata": {},
     "output_type": "execute_result"
    }
   ],
   "source": [
    "orig_slope_si"
   ]
  },
  {
   "cell_type": "code",
   "execution_count": 220,
   "metadata": {
    "collapsed": true
   },
   "outputs": [],
   "source": [
    "slopes_si = []\n",
    "num_samples = 5000\n",
    "for x in np.arange(1, num_samples): \n",
    "    indices = np.random.choice(np.arange(0, len(data13_2)), len(data13_2), replace = False)\n",
    "    teach_attend_si = data13_2['SCH_TEACHER_ATTEND'][indices]\n",
    "    score_si = data13_2['INCIDENT_COUNT%']\n",
    "    m_si, b = np.polyfit(teach_attend_si, score_si, 1)\n",
    "    slopes_si.append(m_si)"
   ]
  },
  {
   "cell_type": "code",
   "execution_count": 221,
   "metadata": {},
   "outputs": [
    {
     "data": {
      "text/plain": [
       "(array([   12.,    54.,   221.,   550.,  1092.,  1315.,  1044.,   529.,\n",
       "          146.,    36.]),\n",
       " array([-0.02903869, -0.02364109, -0.01824349, -0.01284589, -0.00744829,\n",
       "        -0.00205068,  0.00334692,  0.00874452,  0.01414212,  0.01953972,\n",
       "         0.02493732]),\n",
       " <a list of 10 Patch objects>)"
      ]
     },
     "execution_count": 221,
     "metadata": {},
     "output_type": "execute_result"
    },
    {
     "data": {
      "image/png": "[encoded data removed]",
      "text/plain": [
       "<matplotlib.figure.Figure at 0x11c761320>"
      ]
     },
     "metadata": {},
     "output_type": "display_data"
    }
   ],
   "source": [
    "plt.figure(figsize = (8, 5))\n",
    "plt.xlabel(\"Slopes\")\n",
    "plt.ylabel(\"Frequency\")\n",
    "plt.title(\"Correlation between Serious Incidents as a % of students enrolled and teacher attendance\")\n",
    "plt.hist(slopes_si)"
   ]
  },
  {
   "cell_type": "code",
   "execution_count": 222,
   "metadata": {
    "collapsed": true
   },
   "outputs": [],
   "source": [
    "p_value_si = np.sum(np.array(slopes_si) < (orig_slope_si)) / num_samples"
   ]
  },
  {
   "cell_type": "code",
   "execution_count": 223,
   "metadata": {},
   "outputs": [
    {
     "data": {
      "text/plain": [
       "0.0057999999999999996"
      ]
     },
     "execution_count": 223,
     "metadata": {},
     "output_type": "execute_result"
    }
   ],
   "source": [
    "p_value_si"
   ]
  },
  {
   "cell_type": "markdown",
   "metadata": {},
   "source": [
    "Since we have a p-value of ~0, we can reject our null hypothesis and conclude that there is a statistically significant negative correlation between teacher attendance and serious incidents, as a percentage of total student body."
   ]
  },
  {
   "cell_type": "markdown",
   "metadata": {},
   "source": [
    "## Hypothesis 3: Higher teacher attendance leads to better academic rank of school"
   ]
  },
  {
   "cell_type": "code",
   "execution_count": 224,
   "metadata": {
    "collapsed": true
   },
   "outputs": [],
   "source": [
    "data14 = pd.read_csv('/Users/naomi/Desktop/CIS105/FinalProject/data/data14.csv')"
   ]
  },
  {
   "cell_type": "code",
   "execution_count": 225,
   "metadata": {
    "collapsed": true
   },
   "outputs": [],
   "source": [
    "data12_rnmed = data14.rename(columns = {'SCHOOL_ID_x':'SCHOOL_ID'})"
   ]
  },
  {
   "cell_type": "code",
   "execution_count": 226,
   "metadata": {
    "collapsed": true
   },
   "outputs": [],
   "source": [
    "rc12 = pd.read_csv('/Users/naomi/Desktop/CIS105/FinalProject/data/ReportCard/2012/spr_2012.csv')"
   ]
  },
  {
   "cell_type": "code",
   "execution_count": 227,
   "metadata": {
    "collapsed": true
   },
   "outputs": [],
   "source": [
    "data12_rc = data12_rnmed.merge(rc12, on='SCHOOL_ID')"
   ]
  },
  {
   "cell_type": "code",
   "execution_count": 228,
   "metadata": {},
   "outputs": [
    {
     "data": {
      "text/html": [
       "<div>\n",
       "<style>\n",
       "    .dataframe thead tr:only-child th {\n",
       "        text-align: right;\n",
       "    }\n",
       "\n",
       "    .dataframe thead th {\n",
       "        text-align: left;\n",
       "    }\n",
       "\n",
       "    .dataframe tbody tr th {\n",
       "        vertical-align: top;\n",
       "    }\n",
       "</style>\n",
       "<table border=\"1\" class=\"dataframe\">\n",
       "  <thead>\n",
       "    <tr style=\"text-align: right;\">\n",
       "      <th></th>\n",
       "      <th>Unnamed: 0</th>\n",
       "      <th>ULCS_NO_x</th>\n",
       "      <th>Incident Type</th>\n",
       "      <th>Incident Count</th>\n",
       "      <th>SCHOOL_ID</th>\n",
       "      <th>School Name</th>\n",
       "      <th>% Econ Disad</th>\n",
       "      <th>Total Enrolled</th>\n",
       "      <th>Native Count</th>\n",
       "      <th>Native Percent</th>\n",
       "      <th>...</th>\n",
       "      <th>grad_tier</th>\n",
       "      <th>grad_pts_earned</th>\n",
       "      <th>grad_pts_poss</th>\n",
       "      <th>matric_score</th>\n",
       "      <th>matric_floor</th>\n",
       "      <th>matric_target</th>\n",
       "      <th>matric_pct_earned</th>\n",
       "      <th>matric_tier</th>\n",
       "      <th>matric_pts_earned</th>\n",
       "      <th>matric_pts_poss</th>\n",
       "    </tr>\n",
       "  </thead>\n",
       "  <tbody>\n",
       "    <tr>\n",
       "      <th>0</th>\n",
       "      <td>0</td>\n",
       "      <td>4020</td>\n",
       "      <td>BULLYING</td>\n",
       "      <td>0</td>\n",
       "      <td>402</td>\n",
       "      <td>OVERBROOK HIGH SCHOOL</td>\n",
       "      <td>100%</td>\n",
       "      <td>774</td>\n",
       "      <td>0</td>\n",
       "      <td>0%</td>\n",
       "      <td>...</td>\n",
       "      <td>Intervene</td>\n",
       "      <td>0.42</td>\n",
       "      <td>6</td>\n",
       "      <td>33.16</td>\n",
       "      <td>22.55</td>\n",
       "      <td>79.05</td>\n",
       "      <td>19</td>\n",
       "      <td>Intervene</td>\n",
       "      <td>0.76</td>\n",
       "      <td>4</td>\n",
       "    </tr>\n",
       "    <tr>\n",
       "      <th>1</th>\n",
       "      <td>1</td>\n",
       "      <td>4020</td>\n",
       "      <td>DRUGS &amp; ALCOHOL OFFENSE</td>\n",
       "      <td>20</td>\n",
       "      <td>402</td>\n",
       "      <td>OVERBROOK HIGH SCHOOL</td>\n",
       "      <td>100%</td>\n",
       "      <td>774</td>\n",
       "      <td>0</td>\n",
       "      <td>0%</td>\n",
       "      <td>...</td>\n",
       "      <td>Intervene</td>\n",
       "      <td>0.42</td>\n",
       "      <td>6</td>\n",
       "      <td>33.16</td>\n",
       "      <td>22.55</td>\n",
       "      <td>79.05</td>\n",
       "      <td>19</td>\n",
       "      <td>Intervene</td>\n",
       "      <td>0.76</td>\n",
       "      <td>4</td>\n",
       "    </tr>\n",
       "  </tbody>\n",
       "</table>\n",
       "<p>2 rows × 363 columns</p>\n",
       "</div>"
      ],
      "text/plain": [
       "   Unnamed: 0  ULCS_NO_x            Incident Type  Incident Count  SCHOOL_ID  \\\n",
       "0           0       4020                 BULLYING               0        402   \n",
       "1           1       4020  DRUGS & ALCOHOL OFFENSE              20        402   \n",
       "\n",
       "             School Name % Econ Disad  Total Enrolled  Native Count  \\\n",
       "0  OVERBROOK HIGH SCHOOL         100%             774             0   \n",
       "1  OVERBROOK HIGH SCHOOL         100%             774             0   \n",
       "\n",
       "  Native Percent       ...        grad_tier grad_pts_earned  grad_pts_poss  \\\n",
       "0             0%       ...        Intervene            0.42              6   \n",
       "1             0%       ...        Intervene            0.42              6   \n",
       "\n",
       "  matric_score  matric_floor matric_target  matric_pct_earned matric_tier  \\\n",
       "0        33.16         22.55         79.05                 19   Intervene   \n",
       "1        33.16         22.55         79.05                 19   Intervene   \n",
       "\n",
       "   matric_pts_earned matric_pts_poss  \n",
       "0               0.76               4  \n",
       "1               0.76               4  \n",
       "\n",
       "[2 rows x 363 columns]"
      ]
     },
     "execution_count": 228,
     "metadata": {},
     "output_type": "execute_result"
    }
   ],
   "source": [
    "data12_rc.head(2)"
   ]
  },
  {
   "cell_type": "code",
   "execution_count": 229,
   "metadata": {},
   "outputs": [
    {
     "data": {
      "text/plain": [
       "array(['Unnamed: 0', 'ULCS_NO_x', 'Incident Type', 'Incident Count',\n",
       "       'SCHOOL_ID', 'School Name', '% Econ Disad', 'Total Enrolled',\n",
       "       'Native Count', 'Native Percent', 'Asian Count', 'Asian Percent',\n",
       "       'Black Count', 'Black Percent', 'Hispanic Count',\n",
       "       'Hispanic Percent', 'Multi Count', 'Multi Percent', 'Pacific Count',\n",
       "       'Pacific Percent', 'White Count', 'White Percent',\n",
       "       'total_students_suspended', 'sch_one_time_susp',\n",
       "       'sch_two_time_susp', 'sch_three_time_susp',\n",
       "       'sch_more_than_three_susp', 'SCH_TEACHER_ATTEND',\n",
       "       'SDP_TEACHER_ATTEND', 'ULCS_NO_y', 'pa_school_id', 'report',\n",
       "       'school_name', 'street_address', 'city', 'state', 'zip_code',\n",
       "       'phone_number', 'fax_number', 'website', 'gradespan',\n",
       "       'comprehensive_cte', 'admissions_category', 'turnaround_model',\n",
       "       'peer_group_number', 'overall_score', 'overall_tier',\n",
       "       'overall_city_rank', 'overall_city_gap', 'overall_peer_rank',\n",
       "       'overall_peer_gap', 'ach_score', 'ach_tier', 'ach_city_rank',\n",
       "       'ach_city_gap', 'ach_peer_rank', 'ach_peer_gap', 'ach_pts_earned',\n",
       "       'ach_pts_poss', 'prog_score', 'prog_tier', 'prog_city_rank',\n",
       "       'prog_city_gap', 'prog_peer_rank', 'prog_peer_gap',\n",
       "       'prog_pts_earned', 'prog_pts_poss', 'clim_score', 'clim_tier',\n",
       "       'clim_city_rank', 'clim_city_gap', 'clim_peer_rank',\n",
       "       'clim_peer_gap', 'clim_pts_earned', 'clim_pts_poss', 'cc_score',\n",
       "       'cc_tier', 'cc_city_rank', 'cc_city_gap', 'cc_peer_rank',\n",
       "       'cc_peer_gap', 'cc_pts_earned', 'cc_pts_poss', 'dra_score',\n",
       "       'dra_floor', 'dra_target', 'dra_pct_earned', 'dra_tier',\n",
       "       'dra_pts_earned', 'dra_pts_poss', 'pssa_pa_rdg_gr3_score',\n",
       "       'pssa_pa_rdg_gr3_floor', 'pssa_pa_rdg_gr3_target',\n",
       "       'pssa_pa_rdg_gr3_pct_earned', 'pssa_pa_rdg_gr3_tier',\n",
       "       'pssa_pa_rdg_gr3_pts_earned', 'pssa_pa_rdg_gr3_pts_poss',\n",
       "       'pssa_a_rdg_gr3_score', 'pssa_a_rdg_gr3_floor',\n",
       "       'pssa_a_rdg_gr3_target', 'pssa_a_rdg_gr3_pct_earned',\n",
       "       'pssa_a_rdg_gr3_tier', 'pssa_a_rdg_gr3_pts_earned',\n",
       "       'pssa_a_rdg_gr3_pts_poss', 'pssa_pa_math_score',\n",
       "       'pssa_pa_math_floor', 'pssa_pa_math_target',\n",
       "       'pssa_pa_math_pct_earned', 'pssa_pa_math_tier',\n",
       "       'pssa_pa_math_pts_earned', 'pssa_pa_math_pts_poss',\n",
       "       'pssa_a_math_score', 'pssa_a_math_floor', 'pssa_a_math_target',\n",
       "       'pssa_a_math_pct_earned', 'pssa_a_math_tier',\n",
       "       'pssa_a_math_pts_earned', 'pssa_a_math_pts_poss',\n",
       "       'pssa_pa_rdg_gr48_score', 'pssa_pa_rdg_gr48_floor',\n",
       "       'pssa_pa_rdg_gr48_target', 'pssa_pa_rdg_gr48_pct_earned',\n",
       "       'pssa_pa_rdg_gr48_tier', 'pssa_pa_rdg_gr48_pts_earned',\n",
       "       'pssa_pa_rdg_gr48_pts_poss', 'pssa_a_rdg_gr48_score',\n",
       "       'pssa_a_rdg_gr48_floor', 'pssa_a_rdg_gr48_target',\n",
       "       'pssa_a_rdg_gr48_pct_earned', 'pssa_a_rdg_gr48_tier',\n",
       "       'pssa_a_rdg_gr48_pts_earned', 'pssa_a_rdg_gr48_pts_poss',\n",
       "       'pssa_pa_sci_score', 'pssa_pa_sci_floor', 'pssa_pa_sci_target',\n",
       "       'pssa_pa_sci_pct_earned', 'pssa_pa_sci_tier',\n",
       "       'pssa_pa_sci_pts_earned', 'pssa_pa_sci_pts_poss',\n",
       "       'pssa_a_sci_score', 'pssa_a_sci_floor', 'pssa_a_sci_target',\n",
       "       'pssa_a_sci_pct_earned', 'pssa_a_sci_tier', 'pssa_a_sci_pts_earned',\n",
       "       'pssa_a_sci_pts_poss', 'pssa_pa_writ_score', 'pssa_pa_writ_floor',\n",
       "       'pssa_pa_writ_target', 'pssa_pa_writ_pct_earned',\n",
       "       'pssa_pa_writ_tier', 'pssa_pa_writ_pts_earned',\n",
       "       'pssa_pa_writ_pts_poss', 'pssa_a_writ_score', 'pssa_a_writ_floor',\n",
       "       'pssa_a_writ_target', 'pssa_a_writ_pct_earned', 'pssa_a_writ_tier',\n",
       "       'pssa_a_writ_pts_earned', 'pssa_a_writ_pts_poss',\n",
       "       'keystone_alg1_pa_ft_score', 'keystone_alg1_pa_ft_floor',\n",
       "       'keystone_alg1_pa_ft_target', 'keystone_alg1_pa_ft_pct_earned',\n",
       "       'keystone_alg1_pa_ft_tier', 'keystone_alg1_pa_ft_pts_earned',\n",
       "       'keystone_alg1_pa_ft_pts_poss', 'keystone_alg1_pa_rt_score',\n",
       "       'keystone_alg1_pa_rt_floor', 'keystone_alg1_pa_rt_target',\n",
       "       'keystone_alg1_pa_rt_pct_earned', 'keystone_alg1_pa_rt_tier',\n",
       "       'keystone_alg1_pa_rt_pts_earned', 'keystone_alg1_pa_rt_pts_poss',\n",
       "       'keystone_alg1_a_score', 'keystone_alg1_a_floor',\n",
       "       'keystone_alg1_a_target', 'keystone_alg1_a_pct_earned',\n",
       "       'keystone_alg1_a_tier', 'keystone_alg1_a_pts_earned',\n",
       "       'keystone_alg1_a_pts_poss', 'keystone_bio_pa_ft_score',\n",
       "       'keystone_bio_pa_ft_floor', 'keystone_bio_pa_ft_target',\n",
       "       'keystone_bio_pa_ft_pct_earned', 'keystone_bio_pa_ft_tier',\n",
       "       'keystone_bio_pa_ft_pts_earned', 'keystone_bio_pa_ft_pts_poss',\n",
       "       'keystone_bio_pa_rt_score', 'keystone_bio_pa_rt_floor',\n",
       "       'keystone_bio_pa_rt_target', 'keystone_bio_pa_rt_pct_earned',\n",
       "       'keystone_bio_pa_rt_tier', 'keystone_bio_pa_rt_pts_earned',\n",
       "       'keystone_bio_pa_rt_pts_poss', 'keystone_bio_a_score',\n",
       "       'keystone_bio_a_floor', 'keystone_bio_a_target',\n",
       "       'keystone_bio_a_pct_earned', 'keystone_bio_a_tier',\n",
       "       'keystone_bio_a_pts_earned', 'keystone_bio_a_pts_poss',\n",
       "       'keystone_lit_pa_ft_score', 'keystone_lit_pa_ft_floor',\n",
       "       'keystone_lit_pa_ft_target', 'keystone_lit_pa_ft_pct_earned',\n",
       "       'keystone_lit_pa_ft_tier', 'keystone_lit_pa_ft_pts_earned',\n",
       "       'keystone_lit_pa_ft_pts_poss', 'keystone_lit_pa_rt_score',\n",
       "       'keystone_lit_pa_rt_floor', 'keystone_lit_pa_rt_target',\n",
       "       'keystone_lit_pa_rt_pct_earned', 'keystone_lit_pa_rt_tier',\n",
       "       'keystone_lit_pa_rt_pts_earned', 'keystone_lit_pa_rt_pts_poss',\n",
       "       'keystone_lit_a_score', 'keystone_lit_a_floor',\n",
       "       'keystone_lit_a_target', 'keystone_lit_a_pct_earned',\n",
       "       'keystone_lit_a_tier', 'keystone_lit_a_pts_earned',\n",
       "       'keystone_lit_a_pts_poss', 'access_prof_score', 'access_prof_floor',\n",
       "       'access_prof_target', 'access_prof_pct_earned', 'access_prof_tier',\n",
       "       'access_prof_pts_earned', 'access_prof_pts_poss',\n",
       "       'pssa_agi_math_score', 'pssa_agi_math_floor',\n",
       "       'pssa_agi_math_target', 'pssa_agi_math_pct_earned',\n",
       "       'pssa_agi_math_tier', 'pssa_agi_math_pts_earned',\n",
       "       'pssa_agi_math_pts_poss', 'pssa_agi_rdg_score',\n",
       "       'pssa_agi_rdg_floor', 'pssa_agi_rdg_target',\n",
       "       'pssa_agi_rdg_pct_earned', 'pssa_agi_rdg_tier',\n",
       "       'pssa_agi_rdg_pts_earned', 'pssa_agi_rdg_pts_poss',\n",
       "       'pssa_agi_sci_gr4_score', 'pssa_agi_sci_gr4_floor',\n",
       "       'pssa_agi_sci_gr4_target', 'pssa_agi_sci_gr4_pct_earned',\n",
       "       'pssa_agi_sci_gr4_tier', 'pssa_agi_sci_gr4_pts_earned',\n",
       "       'pssa_agi_sci_gr4_pts_poss', 'pssa_agi_sci_gr8_score',\n",
       "       'pssa_agi_sci_gr8_floor', 'pssa_agi_sci_gr8_target',\n",
       "       'pssa_agi_sci_gr8_pct_earned', 'pssa_agi_sci_gr8_tier',\n",
       "       'pssa_agi_sci_gr8_pts_earned', 'pssa_agi_sci_gr8_pts_poss',\n",
       "       'pssa_agi_writ_gr5_score', 'pssa_agi_writ_gr5_floor',\n",
       "       'pssa_agi_writ_gr5_target', 'pssa_agi_writ_gr5_pct_earned',\n",
       "       'pssa_agi_writ_gr5_tier', 'pssa_agi_writ_gr5_pts_earned',\n",
       "       'pssa_agi_writ_gr5_pts_poss', 'pssa_agi_writ_gr8_score',\n",
       "       'pssa_agi_writ_gr8_floor', 'pssa_agi_writ_gr8_target',\n",
       "       'pssa_agi_writ_gr8_pct_earned', 'pssa_agi_writ_gr8_tier',\n",
       "       'pssa_agi_writ_gr8_pts_earned', 'pssa_agi_writ_gr8_pts_poss',\n",
       "       'keystone_alg1_agi_score', 'keystone_alg1_agi_floor',\n",
       "       'keystone_alg1_agi_target', 'keystone_alg1_agi_pct_earned',\n",
       "       'keystone_alg1_agi_tier', 'keystone_alg1_agi_pts_earned',\n",
       "       'keystone_alg1_agi_pts_poss', 'keystone_bio_agi_score',\n",
       "       'keystone_bio_agi_floor', 'keystone_bio_agi_target',\n",
       "       'keystone_bio_agi_pct_earned', 'keystone_bio_agi_tier',\n",
       "       'keystone_bio_agi_pts_earned', 'keystone_bio_agi_pts_poss',\n",
       "       'keystone_lit_agi_score', 'keystone_lit_agi_floor',\n",
       "       'keystone_lit_agi_target', 'keystone_lit_agi_pct_earned',\n",
       "       'keystone_lit_agi_tier', 'keystone_lit_agi_pts_earned',\n",
       "       'keystone_lit_agi_pts_poss', 'access_growth_score',\n",
       "       'access_growth_floor', 'access_growth_target',\n",
       "       'access_growth_pct_earned', 'access_growth_tier',\n",
       "       'access_growth_pts_earned', 'access_growth_pts_poss',\n",
       "       'cred_on_track_stud_score', 'cred_on_track_stud_floor',\n",
       "       'cred_on_track_stud_target', 'cred_on_track_stud_pct_earned',\n",
       "       'cred_on_track_stud_tier', 'cred_on_track_stud_pts_earned',\n",
       "       'cred_on_track_stud_pts_poss', 'cred_off_track_stud_score',\n",
       "       'cred_off_track_stud_floor', 'cred_off_track_stud_target',\n",
       "       'cred_off_track_stud_pct_earned', 'cred_off_track_stud_tier',\n",
       "       'cred_off_track_stud_pts_earned', 'cred_off_track_stud_pts_poss',\n",
       "       'attend_score', 'attend_floor', 'attend_target',\n",
       "       'attend_pct_earned', 'attend_tier', 'attend_pts_earned',\n",
       "       'attend_pts_poss', 'retention_within_score',\n",
       "       'retention_within_floor', 'retention_within_target',\n",
       "       'retention_within_pct_earned', 'retention_within_tier',\n",
       "       'retention_within_pts_earned', 'retention_within_pts_poss',\n",
       "       'retention_across_score', 'retention_across_floor',\n",
       "       'retention_across_target', 'retention_across_pct_earned',\n",
       "       'retention_across_tier', 'retention_across_pts_earned',\n",
       "       'retention_across_pts_poss', 'iss_score', 'iss_floor', 'iss_target',\n",
       "       'iss_pct_earned', 'iss_tier', 'iss_pts_earned', 'iss_pts_poss',\n",
       "       'oss_score', 'oss_floor', 'oss_target', 'oss_pct_earned',\n",
       "       'oss_tier', 'oss_pts_earned', 'oss_pts_poss', 'grad_score',\n",
       "       'grad_floor', 'grad_target', 'grad_pct_earned', 'grad_tier',\n",
       "       'grad_pts_earned', 'grad_pts_poss', 'matric_score', 'matric_floor',\n",
       "       'matric_target', 'matric_pct_earned', 'matric_tier',\n",
       "       'matric_pts_earned', 'matric_pts_poss'], dtype=object)"
      ]
     },
     "execution_count": 229,
     "metadata": {},
     "output_type": "execute_result"
    }
   ],
   "source": [
    "data12_rc.columns.values"
   ]
  },
  {
   "cell_type": "code",
   "execution_count": 230,
   "metadata": {
    "collapsed": true
   },
   "outputs": [],
   "source": [
    "data12_rc_1 = data12_rc[['SCHOOL_ID', 'overall_city_rank','SCH_TEACHER_ATTEND' ]]"
   ]
  },
  {
   "cell_type": "code",
   "execution_count": 231,
   "metadata": {},
   "outputs": [
    {
     "data": {
      "text/plain": [
       "array(['10th of 25', '10th of 53', '10th of 98', '11th of 98',\n",
       "       '12th of 53', '12th of 63', '12th of 98', '13th of 25',\n",
       "       '13th of 53', '13th of 63', '14th of 53', '14th of 63',\n",
       "       '14th of 98', '15th of 25', '16th of 25', '16th of 53',\n",
       "       '16th of 63', '17th of 25', '17th of 53', '17th of 98',\n",
       "       '18th of 53', '18th of 98', '19th of 25', '19th of 53',\n",
       "       '19th of 63', '19th of 98', '20th of 53', '20th of 63',\n",
       "       '20th of 98', '21st of 25', '22nd of 25', '22nd of 53',\n",
       "       '22nd of 63', '23rd of 53', '23rd of 63', '24th of 63',\n",
       "       '24th of 98', '25th of 53', '26th of 53', '26th of 63',\n",
       "       '27th of 53', '27th of 63', '28th of 53', '28th of 98',\n",
       "       '29th of 53', '29th of 63', '29th of 98', '2nd of 25', '2nd of 53',\n",
       "       '2nd of 63', '2nd of 98', '30th of 98', '31st of 53', '31st of 63',\n",
       "       '32nd of 98', '34th of 53', '34th of 63', '34th of 98',\n",
       "       '35th of 53', '36th of 63', '37th of 53', '37th of 98',\n",
       "       '38th of 63', '39th of 63', '39th of 98', '3rd of 53', '3rd of 63',\n",
       "       '3rd of 98', '40th of 53', '41st of 63', '41st of 98', '42nd of 53',\n",
       "       '42nd of 63', '44th of 53', '44th of 98', '46th of 53',\n",
       "       '46th of 63', '48th of 63', '48th of 98', '49th of 53', '4th of 25',\n",
       "       '4th of 53', '4th of 63', '4th of 98', '50th of 53', '50th of 63',\n",
       "       '51st of 53', '52nd of 53', '52nd of 63', '52nd of 98',\n",
       "       '53rd of 53', '55th of 63', '55th of 98', '57th of 63',\n",
       "       '58th of 63', '58th of 98', '59th of 63', '59th of 98', '5th of 25',\n",
       "       '5th of 53', '5th of 63', '5th of 98', '60th of 63', '62nd of 63',\n",
       "       '62nd of 98', '63rd of 63', '63rd of 98', '66th of 98',\n",
       "       '68th of 98', '6th of 63', '6th of 98', '70th of 98', '72nd of 98',\n",
       "       '75th of 98', '78th of 98', '7th of 25', '7th of 53', '7th of 63',\n",
       "       '7th of 98', '81st of 98', '85th of 98', '86th of 98', '87th of 98',\n",
       "       '88th of 98', '89th of 98', '8th of 25', '8th of 53', '8th of 63',\n",
       "       '8th of 98', '92nd of 98', '95th of 98', '98th of 98', '995',\n",
       "       '9th of 25', '9th of 98', 'City Leader'], dtype=object)"
      ]
     },
     "execution_count": 231,
     "metadata": {},
     "output_type": "execute_result"
    }
   ],
   "source": [
    "np.unique(data12_rc['overall_city_rank'])"
   ]
  },
  {
   "cell_type": "code",
   "execution_count": 232,
   "metadata": {
    "collapsed": true
   },
   "outputs": [],
   "source": [
    "def rank_fraction_calc(rank):\n",
    "    if len(rank) == 9:\n",
    "        return (int(rank[0]) / int(rank[-3:]))\n",
    "\n",
    "    elif len(rank) == 10:\n",
    "        return (int(rank[0:2]) / int(rank[-3:]))\n",
    "    \n",
    "    else:\n",
    "        return 0"
   ]
  },
  {
   "cell_type": "code",
   "execution_count": 233,
   "metadata": {},
   "outputs": [
    {
     "name": "stderr",
     "output_type": "stream",
     "text": [
      "/Users/naomi/anaconda/lib/python3.6/site-packages/ipykernel_launcher.py:1: SettingWithCopyWarning:\n",
      "\n",
      "\n",
      "A value is trying to be set on a copy of a slice from a DataFrame.\n",
      "Try using .loc[row_indexer,col_indexer] = value instead\n",
      "\n",
      "See the caveats in the documentation: http://pandas.pydata.org/pandas-docs/stable/indexing.html#indexing-view-versus-copy\n",
      "\n"
     ]
    }
   ],
   "source": [
    "data12_rc_1['city rank fraction'] = data12_rc_1['overall_city_rank'].apply(rank_fraction_calc)"
   ]
  },
  {
   "cell_type": "code",
   "execution_count": 234,
   "metadata": {},
   "outputs": [
    {
     "data": {
      "text/html": [
       "<div>\n",
       "<style>\n",
       "    .dataframe thead tr:only-child th {\n",
       "        text-align: right;\n",
       "    }\n",
       "\n",
       "    .dataframe thead th {\n",
       "        text-align: left;\n",
       "    }\n",
       "\n",
       "    .dataframe tbody tr th {\n",
       "        vertical-align: top;\n",
       "    }\n",
       "</style>\n",
       "<table border=\"1\" class=\"dataframe\">\n",
       "  <thead>\n",
       "    <tr style=\"text-align: right;\">\n",
       "      <th></th>\n",
       "      <th>SCHOOL_ID</th>\n",
       "      <th>overall_city_rank</th>\n",
       "      <th>SCH_TEACHER_ATTEND</th>\n",
       "      <th>city rank fraction</th>\n",
       "    </tr>\n",
       "  </thead>\n",
       "  <tbody>\n",
       "    <tr>\n",
       "      <th>0</th>\n",
       "      <td>402</td>\n",
       "      <td>46th of 53</td>\n",
       "      <td>92.7</td>\n",
       "      <td>0.867925</td>\n",
       "    </tr>\n",
       "    <tr>\n",
       "      <th>1</th>\n",
       "      <td>402</td>\n",
       "      <td>46th of 53</td>\n",
       "      <td>92.7</td>\n",
       "      <td>0.867925</td>\n",
       "    </tr>\n",
       "    <tr>\n",
       "      <th>2</th>\n",
       "      <td>402</td>\n",
       "      <td>46th of 53</td>\n",
       "      <td>92.7</td>\n",
       "      <td>0.867925</td>\n",
       "    </tr>\n",
       "    <tr>\n",
       "      <th>3</th>\n",
       "      <td>402</td>\n",
       "      <td>46th of 53</td>\n",
       "      <td>92.7</td>\n",
       "      <td>0.867925</td>\n",
       "    </tr>\n",
       "    <tr>\n",
       "      <th>4</th>\n",
       "      <td>402</td>\n",
       "      <td>46th of 53</td>\n",
       "      <td>92.7</td>\n",
       "      <td>0.867925</td>\n",
       "    </tr>\n",
       "  </tbody>\n",
       "</table>\n",
       "</div>"
      ],
      "text/plain": [
       "   SCHOOL_ID overall_city_rank  SCH_TEACHER_ATTEND  city rank fraction\n",
       "0        402        46th of 53                92.7            0.867925\n",
       "1        402        46th of 53                92.7            0.867925\n",
       "2        402        46th of 53                92.7            0.867925\n",
       "3        402        46th of 53                92.7            0.867925\n",
       "4        402        46th of 53                92.7            0.867925"
      ]
     },
     "execution_count": 234,
     "metadata": {},
     "output_type": "execute_result"
    }
   ],
   "source": [
    "data12_rc_1.head()"
   ]
  },
  {
   "cell_type": "code",
   "execution_count": 235,
   "metadata": {
    "collapsed": true
   },
   "outputs": [],
   "source": [
    "data12_rc_2 = data12_rc_1.pivot_table(['city rank fraction', 'SCH_TEACHER_ATTEND'], index = 'SCHOOL_ID')"
   ]
  },
  {
   "cell_type": "code",
   "execution_count": 236,
   "metadata": {},
   "outputs": [
    {
     "data": {
      "text/html": [
       "<div>\n",
       "<style>\n",
       "    .dataframe thead tr:only-child th {\n",
       "        text-align: right;\n",
       "    }\n",
       "\n",
       "    .dataframe thead th {\n",
       "        text-align: left;\n",
       "    }\n",
       "\n",
       "    .dataframe tbody tr th {\n",
       "        vertical-align: top;\n",
       "    }\n",
       "</style>\n",
       "<table border=\"1\" class=\"dataframe\">\n",
       "  <thead>\n",
       "    <tr style=\"text-align: right;\">\n",
       "      <th></th>\n",
       "      <th>SCH_TEACHER_ATTEND</th>\n",
       "      <th>city rank fraction</th>\n",
       "    </tr>\n",
       "    <tr>\n",
       "      <th>SCHOOL_ID</th>\n",
       "      <th></th>\n",
       "      <th></th>\n",
       "    </tr>\n",
       "  </thead>\n",
       "  <tbody>\n",
       "    <tr>\n",
       "      <th>101</th>\n",
       "      <td>91.1</td>\n",
       "      <td>0.584906</td>\n",
       "    </tr>\n",
       "    <tr>\n",
       "      <th>102</th>\n",
       "      <td>93.6</td>\n",
       "      <td>0.924528</td>\n",
       "    </tr>\n",
       "    <tr>\n",
       "      <th>103</th>\n",
       "      <td>93.8</td>\n",
       "      <td>0.471698</td>\n",
       "    </tr>\n",
       "    <tr>\n",
       "      <th>105</th>\n",
       "      <td>95.0</td>\n",
       "      <td>0.433962</td>\n",
       "    </tr>\n",
       "    <tr>\n",
       "      <th>110</th>\n",
       "      <td>88.3</td>\n",
       "      <td>0.981132</td>\n",
       "    </tr>\n",
       "  </tbody>\n",
       "</table>\n",
       "</div>"
      ],
      "text/plain": [
       "           SCH_TEACHER_ATTEND  city rank fraction\n",
       "SCHOOL_ID                                        \n",
       "101                      91.1            0.584906\n",
       "102                      93.6            0.924528\n",
       "103                      93.8            0.471698\n",
       "105                      95.0            0.433962\n",
       "110                      88.3            0.981132"
      ]
     },
     "execution_count": 236,
     "metadata": {},
     "output_type": "execute_result"
    }
   ],
   "source": [
    "data12_rc_2.head()"
   ]
  },
  {
   "cell_type": "code",
   "execution_count": 237,
   "metadata": {
    "collapsed": true
   },
   "outputs": [],
   "source": [
    "data12_rc_2 = data12_rc_2.reset_index()"
   ]
  },
  {
   "cell_type": "code",
   "execution_count": 238,
   "metadata": {},
   "outputs": [
    {
     "data": {
      "text/plain": [
       "<matplotlib.text.Text at 0x117d236d8>"
      ]
     },
     "execution_count": 238,
     "metadata": {},
     "output_type": "execute_result"
    },
    {
     "data": {
      "image/png": "[encoded data removed]",
      "text/plain": [
       "<matplotlib.figure.Figure at 0x11eab9ac8>"
      ]
     },
     "metadata": {},
     "output_type": "display_data"
    }
   ],
   "source": [
    "# Plot the data\n",
    "plt.scatter(data12_rc_2['SCH_TEACHER_ATTEND'], data12_rc_2['city rank fraction'])\n",
    "plt.xlabel('Teacher attendance (# Days in school)')\n",
    "plt.ylabel('Rank of School')"
   ]
  },
  {
   "cell_type": "markdown",
   "metadata": {},
   "source": [
    "Note that in this plot, a lower rank is better because, for example, being ranked 77/78 is a high percentage, but is actually a bad ranking. Thus, the plot makes sense- schools with higher teacher attendance should see better school rankings."
   ]
  },
  {
   "cell_type": "markdown",
   "metadata": {},
   "source": [
    "### We can see a negative correlation- is it statistically significant?\n",
    "## Hypothesis testing <br>\n",
    "### H0: There is no correlation between teacher attendance and city rank fraction <br>\n",
    "### H1: There is a negative correlation between teacher attendance and city rank fraction"
   ]
  },
  {
   "cell_type": "code",
   "execution_count": 239,
   "metadata": {
    "collapsed": true
   },
   "outputs": [],
   "source": [
    "orig_slope_rc, b_rc = np.polyfit(data12_rc_2['SCH_TEACHER_ATTEND'], data12_rc_2['city rank fraction'], 1)"
   ]
  },
  {
   "cell_type": "code",
   "execution_count": 240,
   "metadata": {},
   "outputs": [
    {
     "data": {
      "text/plain": [
       "-0.029092834982965436"
      ]
     },
     "execution_count": 240,
     "metadata": {},
     "output_type": "execute_result"
    }
   ],
   "source": [
    "orig_slope_rc"
   ]
  },
  {
   "cell_type": "code",
   "execution_count": 241,
   "metadata": {
    "collapsed": true
   },
   "outputs": [],
   "source": [
    "slopes_rc = []\n",
    "num_samples = 5000\n",
    "for x in np.arange(1, num_samples): \n",
    "    indices_rc = np.random.choice(np.arange(0, len(data12_rc_2)), len(data12_rc_2), replace = False)\n",
    "    teach_attend_rc = data12_rc_2['SCH_TEACHER_ATTEND'][indices_rc]\n",
    "    score_rc = data12_rc_2['city rank fraction']\n",
    "    m_rc, b = np.polyfit(teach_attend_rc, score_rc, 1)\n",
    "    slopes_rc.append(m_rc)"
   ]
  },
  {
   "cell_type": "code",
   "execution_count": 242,
   "metadata": {},
   "outputs": [
    {
     "data": {
      "text/plain": [
       "(array([    2.,    32.,   180.,   605.,  1228.,  1423.,  1014.,   402.,\n",
       "           99.,    14.]),\n",
       " array([-0.03847182, -0.03119199, -0.02391216, -0.01663233, -0.0093525 ,\n",
       "        -0.00207266,  0.00520717,  0.012487  ,  0.01976683,  0.02704666,\n",
       "         0.03432649]),\n",
       " <a list of 10 Patch objects>)"
      ]
     },
     "execution_count": 242,
     "metadata": {},
     "output_type": "execute_result"
    },
    {
     "data": {
      "image/png": "[encoded data removed]",
      "text/plain": [
       "<matplotlib.figure.Figure at 0x117ada748>"
      ]
     },
     "metadata": {},
     "output_type": "display_data"
    }
   ],
   "source": [
    "plt.figure(figsize = (8, 5))\n",
    "plt.xlabel(\"Slopes\")\n",
    "plt.ylabel(\"Frequency\")\n",
    "plt.title(\"Correlation between city rank fraction and teacher attendance\")\n",
    "plt.hist(slopes_rc)"
   ]
  },
  {
   "cell_type": "code",
   "execution_count": 243,
   "metadata": {
    "collapsed": true
   },
   "outputs": [],
   "source": [
    "p_value_rc = np.sum(np.array(slopes_rc) < (orig_slope_rc)) / num_samples"
   ]
  },
  {
   "cell_type": "code",
   "execution_count": 244,
   "metadata": {},
   "outputs": [
    {
     "data": {
      "text/plain": [
       "0.001"
      ]
     },
     "execution_count": 244,
     "metadata": {},
     "output_type": "execute_result"
    }
   ],
   "source": [
    "p_value_rc"
   ]
  },
  {
   "cell_type": "markdown",
   "metadata": {},
   "source": [
    "Since we have a p-value of ~0, we can reject our null hypothesis and conclude that there is a statistically significant negative correlation between teacher attendance and rank of school."
   ]
  },
  {
   "cell_type": "markdown",
   "metadata": {},
   "source": [
    "# Part 2: Hypotheses regarding factors that affect teacher attendance: school environment, weather, and teacher salary"
   ]
  },
  {
   "cell_type": "markdown",
   "metadata": {},
   "source": [
    "## Hypothesis 4: Better school environment leads to higher teacher attendance"
   ]
  },
  {
   "cell_type": "code",
   "execution_count": 245,
   "metadata": {
    "collapsed": true
   },
   "outputs": [],
   "source": [
    "rc13 = pd.read_csv('/Users/naomi/Desktop/CIS105/FinalProject/data/ReportCard/2013/spr_2013.csv')"
   ]
  },
  {
   "cell_type": "code",
   "execution_count": 246,
   "metadata": {},
   "outputs": [
    {
     "data": {
      "text/plain": [
       "Index(['ULCS_NO', 'SCHOOL_YEAR', 'SCH_TEACHER_ATTEND', 'SDP_TEACHER_ATTEND',\n",
       "       'SCHOOL_ID'],\n",
       "      dtype='object')"
      ]
     },
     "execution_count": 246,
     "metadata": {},
     "output_type": "execute_result"
    }
   ],
   "source": [
    "ta13.columns"
   ]
  },
  {
   "cell_type": "code",
   "execution_count": 247,
   "metadata": {
    "collapsed": true
   },
   "outputs": [],
   "source": [
    "merged2 = rc13.merge(ta13, on='ULCS_NO')"
   ]
  },
  {
   "cell_type": "code",
   "execution_count": 248,
   "metadata": {},
   "outputs": [
    {
     "data": {
      "text/plain": [
       "array(['10', '100', '11', '12', '13', '14', '15', '17', '18', '19', '20',\n",
       "       '21', '22', '23', '24', '25', '26', '27', '28', '29', '32', '33',\n",
       "       '34', '35', '36', '38', '39', '4', '40', '41', '42', '43', '44',\n",
       "       '45', '46', '47', '49', '5', '50', '51', '52', '53', '54', '55',\n",
       "       '56', '57', '58', '59', '60', '61', '62', '63', '64', '65', '66',\n",
       "       '67', '69', '7', '70', '72', '73', '74', '75', '76', '78', '79',\n",
       "       '8', '80', '82', '83', '84', '85', '86', '88', '89', '9', '90',\n",
       "       '91', '92', '93', '94', '96', '97', '98', '99', 'Less than 10'], dtype=object)"
      ]
     },
     "execution_count": 248,
     "metadata": {},
     "output_type": "execute_result"
    }
   ],
   "source": [
    "np.unique(merged2['clim_score'])"
   ]
  },
  {
   "cell_type": "code",
   "execution_count": 249,
   "metadata": {
    "collapsed": true
   },
   "outputs": [],
   "source": [
    "# Clean up clim_score column. Since we have 'Less than 10' we'll replace that with 5.\n",
    "merged2['clim_score'] = merged2['clim_score'].str.replace('Less than 10', '5')"
   ]
  },
  {
   "cell_type": "code",
   "execution_count": 250,
   "metadata": {
    "collapsed": true
   },
   "outputs": [],
   "source": [
    "# Convert all strings in the array to ints\n",
    "merged2['clim_score'] = [int(i) for i in merged2['clim_score']]"
   ]
  },
  {
   "cell_type": "code",
   "execution_count": 251,
   "metadata": {},
   "outputs": [
    {
     "data": {
      "text/plain": [
       "array([  4,   5,   7,   8,   9,  10,  11,  12,  13,  14,  15,  17,  18,\n",
       "        19,  20,  21,  22,  23,  24,  25,  26,  27,  28,  29,  32,  33,\n",
       "        34,  35,  36,  38,  39,  40,  41,  42,  43,  44,  45,  46,  47,\n",
       "        49,  50,  51,  52,  53,  54,  55,  56,  57,  58,  59,  60,  61,\n",
       "        62,  63,  64,  65,  66,  67,  69,  70,  72,  73,  74,  75,  76,\n",
       "        78,  79,  80,  82,  83,  84,  85,  86,  88,  89,  90,  91,  92,\n",
       "        93,  94,  96,  97,  98,  99, 100])"
      ]
     },
     "execution_count": 251,
     "metadata": {},
     "output_type": "execute_result"
    }
   ],
   "source": [
    "np.unique(merged2['clim_score'])"
   ]
  },
  {
   "cell_type": "code",
   "execution_count": 252,
   "metadata": {},
   "outputs": [
    {
     "data": {
      "text/plain": [
       "array([ 85.3,  86.4,  86.5,  86.9,  87.8,  88. ,  88.4,  88.5,  88.7,\n",
       "        88.8,  89. ,  89.6,  89.7,  89.8,  89.9,  90. ,  90.1,  90.2,\n",
       "        90.6,  90.7,  90.8,  90.9,  91.1,  91.2,  91.4,  91.5,  91.6,\n",
       "        91.7,  91.8,  91.9,  92. ,  92.1,  92.2,  92.3,  92.4,  92.6,\n",
       "        92.7,  92.8,  93. ,  93.1,  93.2,  93.3,  93.4,  93.5,  93.6,\n",
       "        93.7,  93.8,  93.9,  94. ,  94.1,  94.2,  94.3,  94.4,  94.5,\n",
       "        94.6,  94.7,  94.8,  95. ,  95.1,  95.2,  95.3,  95.4,  95.5,\n",
       "        95.6,  95.7,  95.8,  95.9,  96. ,  96.1,  96.2,  96.5,  96.6,\n",
       "        96.8,  97.2,  97.6,  98.1])"
      ]
     },
     "execution_count": 252,
     "metadata": {},
     "output_type": "execute_result"
    }
   ],
   "source": [
    "np.unique(merged2['SCH_TEACHER_ATTEND'])"
   ]
  },
  {
   "cell_type": "code",
   "execution_count": 253,
   "metadata": {},
   "outputs": [
    {
     "data": {
      "text/plain": [
       "<matplotlib.text.Text at 0x1180b4d30>"
      ]
     },
     "execution_count": 253,
     "metadata": {},
     "output_type": "execute_result"
    },
    {
     "data": {
      "image/png": "[encoded data removed]",
      "text/plain": [
       "<matplotlib.figure.Figure at 0x117df2ef0>"
      ]
     },
     "metadata": {},
     "output_type": "display_data"
    }
   ],
   "source": [
    "# Plot the data\n",
    "plt.scatter(merged2['clim_score'], merged2['SCH_TEACHER_ATTEND'])\n",
    "plt.xlabel('Climate Score')\n",
    "plt.ylabel('Teacher attendance (# Days in school)')"
   ]
  },
  {
   "cell_type": "code",
   "execution_count": 254,
   "metadata": {
    "collapsed": true
   },
   "outputs": [],
   "source": [
    "orig_slope2, b2 = np.polyfit(merged2['clim_score'], merged2['SCH_TEACHER_ATTEND'], 1)"
   ]
  },
  {
   "cell_type": "code",
   "execution_count": 255,
   "metadata": {},
   "outputs": [
    {
     "data": {
      "text/plain": [
       "0.028113277811195794"
      ]
     },
     "execution_count": 255,
     "metadata": {},
     "output_type": "execute_result"
    }
   ],
   "source": [
    "orig_slope2"
   ]
  },
  {
   "cell_type": "markdown",
   "metadata": {},
   "source": [
    "### We can see a slightly positive correlation- is it statistically significant?\n",
    "## Hypothesis testing <br>\n",
    "### H0: There is no correlation between teacher attendance and school climate <br>\n",
    "### H1: There is a positive correlation between teacher attendance and school climate"
   ]
  },
  {
   "cell_type": "code",
   "execution_count": 256,
   "metadata": {
    "collapsed": true
   },
   "outputs": [],
   "source": [
    "slopes2 = []\n",
    "num_samples2 = 5000\n",
    "for x in np.arange(1, num_samples2): \n",
    "    indices2 = np.random.choice(np.arange(0, len(merged2)), len(merged2), replace = False)\n",
    "    teach_attend = merged2['SCH_TEACHER_ATTEND']\n",
    "    score2 = merged2['clim_score'][indices2]\n",
    "    new_slope, new_b = np.polyfit(score2, teach_attend, 1)\n",
    "    slopes2.append(new_slope)"
   ]
  },
  {
   "cell_type": "code",
   "execution_count": 257,
   "metadata": {},
   "outputs": [
    {
     "data": {
      "text/plain": [
       "(array([    6.,    72.,   313.,   920.,  1481.,  1338.,   666.,   168.,\n",
       "           29.,     6.]),\n",
       " array([-0.01999457, -0.01580836, -0.01162215, -0.00743594, -0.00324973,\n",
       "         0.00093647,  0.00512268,  0.00930889,  0.0134951 ,  0.01768131,\n",
       "         0.02186752]),\n",
       " <a list of 10 Patch objects>)"
      ]
     },
     "execution_count": 257,
     "metadata": {},
     "output_type": "execute_result"
    },
    {
     "data": {
      "image/png": "[encoded data removed]",
      "text/plain": [
       "<matplotlib.figure.Figure at 0x10dc8f6d8>"
      ]
     },
     "metadata": {},
     "output_type": "display_data"
    }
   ],
   "source": [
    "plt.figure(figsize = (8, 5))\n",
    "plt.xlabel(\"Slopes\")\n",
    "plt.ylabel(\"Frequency\")\n",
    "plt.title(\"Correlation between climate score and teacher attendance\")\n",
    "plt.hist(slopes2)"
   ]
  },
  {
   "cell_type": "code",
   "execution_count": 258,
   "metadata": {
    "collapsed": true
   },
   "outputs": [],
   "source": [
    "p_value2 = np.sum(np.array(slopes2) > (orig_slope2)) / num_samples2"
   ]
  },
  {
   "cell_type": "code",
   "execution_count": 259,
   "metadata": {},
   "outputs": [
    {
     "data": {
      "text/plain": [
       "0.0"
      ]
     },
     "execution_count": 259,
     "metadata": {},
     "output_type": "execute_result"
    }
   ],
   "source": [
    "p_value2"
   ]
  },
  {
   "cell_type": "markdown",
   "metadata": {},
   "source": [
    "Since we have a p-value of 0, we can reject our null hypothesis and conclude that there is a statistically significant negative correlation between teacher attendance and school climate."
   ]
  },
  {
   "cell_type": "markdown",
   "metadata": {},
   "source": [
    "## Hypothesis 5: Better weather leads to higher teacher attendance"
   ]
  },
  {
   "cell_type": "code",
   "execution_count": 260,
   "metadata": {
    "collapsed": true
   },
   "outputs": [],
   "source": [
    "ta12 = pd.read_csv('/Users/naomi/Desktop/CIS105/FinalProject/data/TeacherAttendance/attendance_2012.csv')"
   ]
  },
  {
   "cell_type": "code",
   "execution_count": 261,
   "metadata": {},
   "outputs": [
    {
     "data": {
      "text/plain": [
       "Index(['ULCS_NO', 'SCHOOL_YEAR', 'SCH_TEACHER_ATTEND', 'SDP_TEACHER_ATTEND',\n",
       "       'SCHOOL_ID'],\n",
       "      dtype='object')"
      ]
     },
     "execution_count": 261,
     "metadata": {},
     "output_type": "execute_result"
    }
   ],
   "source": [
    "ta12.columns"
   ]
  },
  {
   "cell_type": "code",
   "execution_count": 262,
   "metadata": {
    "collapsed": true
   },
   "outputs": [],
   "source": [
    "ta14 = pd.read_csv('/Users/naomi/Desktop/CIS105/FinalProject/data/TeacherAttendance/attendance_2014.csv')"
   ]
  },
  {
   "cell_type": "code",
   "execution_count": 263,
   "metadata": {
    "collapsed": true
   },
   "outputs": [],
   "source": [
    "ta15 = pd.read_csv('/Users/naomi/Desktop/CIS105/FinalProject/data/TeacherAttendance/attendance_2015.csv')"
   ]
  },
  {
   "cell_type": "code",
   "execution_count": 264,
   "metadata": {},
   "outputs": [
    {
     "data": {
      "text/plain": [
       "Index(['School Year', 'ULCS', 'SCHOOL_ID', 'Teacher Attd %', 'SDP Avg'], dtype='object')"
      ]
     },
     "execution_count": 264,
     "metadata": {},
     "output_type": "execute_result"
    }
   ],
   "source": [
    "ta15.columns"
   ]
  },
  {
   "cell_type": "code",
   "execution_count": 265,
   "metadata": {
    "collapsed": true
   },
   "outputs": [],
   "source": [
    "weather_data_12 = pd.read_csv('/Users/naomi/Desktop/CIS105/FinalProject/data/philly_weather_2012.csv')"
   ]
  },
  {
   "cell_type": "code",
   "execution_count": 266,
   "metadata": {},
   "outputs": [
    {
     "data": {
      "text/plain": [
       "303"
      ]
     },
     "execution_count": 266,
     "metadata": {},
     "output_type": "execute_result"
    }
   ],
   "source": [
    "len(weather_data_12['Events'])"
   ]
  },
  {
   "cell_type": "code",
   "execution_count": 267,
   "metadata": {
    "collapsed": true
   },
   "outputs": [],
   "source": [
    "weather_data_12['Events'] = weather_data_12['Events'].fillna(value='None')"
   ]
  },
  {
   "cell_type": "code",
   "execution_count": 268,
   "metadata": {
    "collapsed": true
   },
   "outputs": [],
   "source": [
    "#count the number of bad weather days\n",
    "weather_data_12_bad = len(weather_data_12[weather_data_12['Events'].str.contains('Rain')]) + len(weather_data_12[weather_data_12['Events'].str.contains('Snow')]) + len(weather_data_12[weather_data_12['Events'].str.contains('Thunderstorm')])"
   ]
  },
  {
   "cell_type": "code",
   "execution_count": 269,
   "metadata": {},
   "outputs": [
    {
     "data": {
      "text/plain": [
       "164"
      ]
     },
     "execution_count": 269,
     "metadata": {},
     "output_type": "execute_result"
    }
   ],
   "source": [
    "weather_data_12_bad"
   ]
  },
  {
   "cell_type": "code",
   "execution_count": 270,
   "metadata": {
    "collapsed": true
   },
   "outputs": [],
   "source": [
    "weather_data_12_bad = (weather_data_12_bad / len(weather_data_12['Events'])) * 100"
   ]
  },
  {
   "cell_type": "code",
   "execution_count": 271,
   "metadata": {},
   "outputs": [
    {
     "data": {
      "text/plain": [
       "54.12541254125413"
      ]
     },
     "execution_count": 271,
     "metadata": {},
     "output_type": "execute_result"
    }
   ],
   "source": [
    "weather_data_12_bad"
   ]
  },
  {
   "cell_type": "code",
   "execution_count": 272,
   "metadata": {
    "collapsed": true
   },
   "outputs": [],
   "source": [
    "weather_data_13 = pd.read_csv('/Users/naomi/Desktop/CIS105/FinalProject/data/philly_weather_2013.csv')"
   ]
  },
  {
   "cell_type": "code",
   "execution_count": 273,
   "metadata": {},
   "outputs": [
    {
     "data": {
      "text/plain": [
       "303"
      ]
     },
     "execution_count": 273,
     "metadata": {},
     "output_type": "execute_result"
    }
   ],
   "source": [
    "len(weather_data_13['Events'])"
   ]
  },
  {
   "cell_type": "code",
   "execution_count": 274,
   "metadata": {
    "collapsed": true
   },
   "outputs": [],
   "source": [
    "weather_data_13['Events'] = weather_data_13['Events'].fillna(value='None')"
   ]
  },
  {
   "cell_type": "code",
   "execution_count": 275,
   "metadata": {
    "collapsed": true
   },
   "outputs": [],
   "source": [
    "weather_data_13_bad = len(weather_data_13[weather_data_13['Events'].str.contains('Rain')]) + len(weather_data_13[weather_data_13['Events'].str.contains('Snow')]) + len(weather_data_13[weather_data_13['Events'].str.contains('Thunderstorm')])"
   ]
  },
  {
   "cell_type": "code",
   "execution_count": 276,
   "metadata": {
    "collapsed": true
   },
   "outputs": [],
   "source": [
    "weather_data_13_bad = (weather_data_13_bad / len(weather_data_13['Events'])) * 100"
   ]
  },
  {
   "cell_type": "code",
   "execution_count": 277,
   "metadata": {},
   "outputs": [
    {
     "data": {
      "text/plain": [
       "53.46534653465347"
      ]
     },
     "execution_count": 277,
     "metadata": {},
     "output_type": "execute_result"
    }
   ],
   "source": [
    "weather_data_13_bad"
   ]
  },
  {
   "cell_type": "code",
   "execution_count": 278,
   "metadata": {
    "collapsed": true
   },
   "outputs": [],
   "source": [
    "weather_data_14 = pd.read_csv('/Users/naomi/Desktop/CIS105/FinalProject/data/philly_weather_2014.csv')"
   ]
  },
  {
   "cell_type": "code",
   "execution_count": 279,
   "metadata": {},
   "outputs": [
    {
     "data": {
      "text/plain": [
       "303"
      ]
     },
     "execution_count": 279,
     "metadata": {},
     "output_type": "execute_result"
    }
   ],
   "source": [
    "len(weather_data_14['Events'])"
   ]
  },
  {
   "cell_type": "code",
   "execution_count": 280,
   "metadata": {
    "collapsed": true
   },
   "outputs": [],
   "source": [
    "weather_data_14['Events'] = weather_data_14['Events'].fillna(value='None')"
   ]
  },
  {
   "cell_type": "code",
   "execution_count": 281,
   "metadata": {
    "collapsed": true
   },
   "outputs": [],
   "source": [
    "weather_data_14_bad = len(weather_data_14[weather_data_14['Events'].str.contains('Rain')]) + len(weather_data_14[weather_data_14['Events'].str.contains('Snow')]) + len(weather_data_14[weather_data_14['Events'].str.contains('Thunderstorm')])"
   ]
  },
  {
   "cell_type": "code",
   "execution_count": 282,
   "metadata": {
    "collapsed": true
   },
   "outputs": [],
   "source": [
    "weather_data_14_bad = (weather_data_14_bad / len(weather_data_14['Events'])) * 100"
   ]
  },
  {
   "cell_type": "code",
   "execution_count": 283,
   "metadata": {},
   "outputs": [
    {
     "data": {
      "text/plain": [
       "54.12541254125413"
      ]
     },
     "execution_count": 283,
     "metadata": {},
     "output_type": "execute_result"
    }
   ],
   "source": [
    "weather_data_14_bad"
   ]
  },
  {
   "cell_type": "code",
   "execution_count": 284,
   "metadata": {
    "collapsed": true
   },
   "outputs": [],
   "source": [
    "weather_data_15 = pd.read_csv('/Users/naomi/Desktop/CIS105/FinalProject/data/philly_weather_2015.csv')"
   ]
  },
  {
   "cell_type": "code",
   "execution_count": 285,
   "metadata": {},
   "outputs": [
    {
     "data": {
      "text/plain": [
       "304"
      ]
     },
     "execution_count": 285,
     "metadata": {},
     "output_type": "execute_result"
    }
   ],
   "source": [
    "len(weather_data_15['Events'])"
   ]
  },
  {
   "cell_type": "code",
   "execution_count": 286,
   "metadata": {
    "collapsed": true
   },
   "outputs": [],
   "source": [
    "weather_data_15['Events'] = weather_data_15['Events'].fillna(value='None')"
   ]
  },
  {
   "cell_type": "code",
   "execution_count": 287,
   "metadata": {
    "collapsed": true
   },
   "outputs": [],
   "source": [
    "weather_data_15_bad = len(weather_data_15[weather_data_15['Events'].str.contains('Rain')]) + len(weather_data_15[weather_data_15['Events'].str.contains('Snow')]) + len(weather_data_15[weather_data_15['Events'].str.contains('Thunderstorm')])"
   ]
  },
  {
   "cell_type": "code",
   "execution_count": 288,
   "metadata": {
    "collapsed": true
   },
   "outputs": [],
   "source": [
    "weather_data_15_bad = (weather_data_15_bad / len(weather_data_15['Events'])) * 100"
   ]
  },
  {
   "cell_type": "code",
   "execution_count": 289,
   "metadata": {},
   "outputs": [
    {
     "data": {
      "text/plain": [
       "49.67105263157895"
      ]
     },
     "execution_count": 289,
     "metadata": {},
     "output_type": "execute_result"
    }
   ],
   "source": [
    "weather_data_15_bad"
   ]
  },
  {
   "cell_type": "code",
   "execution_count": 290,
   "metadata": {
    "collapsed": true
   },
   "outputs": [],
   "source": [
    "avg_attend_12 = (np.mean(ta12['SCH_TEACHER_ATTEND']) / 188) * 100"
   ]
  },
  {
   "cell_type": "code",
   "execution_count": 291,
   "metadata": {},
   "outputs": [
    {
     "data": {
      "text/plain": [
       "99.70921985815602"
      ]
     },
     "execution_count": 291,
     "metadata": {},
     "output_type": "execute_result"
    }
   ],
   "source": [
    "avg_attend_12"
   ]
  },
  {
   "cell_type": "code",
   "execution_count": 292,
   "metadata": {
    "collapsed": true
   },
   "outputs": [],
   "source": [
    "avg_attend_13 = np.mean(ta13['SCH_TEACHER_ATTEND'])"
   ]
  },
  {
   "cell_type": "code",
   "execution_count": 293,
   "metadata": {},
   "outputs": [
    {
     "data": {
      "text/plain": [
       "93.43160377358491"
      ]
     },
     "execution_count": 293,
     "metadata": {},
     "output_type": "execute_result"
    }
   ],
   "source": [
    "avg_attend_13"
   ]
  },
  {
   "cell_type": "code",
   "execution_count": 294,
   "metadata": {
    "collapsed": true
   },
   "outputs": [],
   "source": [
    "avg_attend_14 = np.mean(ta14['SCH_TEACHER_ATTEND'])"
   ]
  },
  {
   "cell_type": "code",
   "execution_count": 295,
   "metadata": {},
   "outputs": [
    {
     "data": {
      "text/plain": [
       "93.30762331838555"
      ]
     },
     "execution_count": 295,
     "metadata": {},
     "output_type": "execute_result"
    }
   ],
   "source": [
    "avg_attend_14"
   ]
  },
  {
   "cell_type": "code",
   "execution_count": 296,
   "metadata": {
    "collapsed": true
   },
   "outputs": [],
   "source": [
    "avg_attend_15 = np.mean(ta15['Teacher Attd %'])"
   ]
  },
  {
   "cell_type": "code",
   "execution_count": 297,
   "metadata": {},
   "outputs": [
    {
     "data": {
      "text/plain": [
       "93.9834101382489"
      ]
     },
     "execution_count": 297,
     "metadata": {},
     "output_type": "execute_result"
    }
   ],
   "source": [
    "avg_attend_15"
   ]
  },
  {
   "cell_type": "code",
   "execution_count": 298,
   "metadata": {
    "collapsed": true
   },
   "outputs": [],
   "source": [
    "# Make a df out of this information\n",
    "d = {'Bad Weather Days (%)': [weather_data_12_bad, weather_data_13_bad, weather_data_14_bad, weather_data_15_bad], 'Avg. Teacher Attendance (%)': [avg_attend_12, avg_attend_13, avg_attend_14, avg_attend_15]}"
   ]
  },
  {
   "cell_type": "code",
   "execution_count": 299,
   "metadata": {
    "collapsed": true
   },
   "outputs": [],
   "source": [
    "df = pd.DataFrame(data=d, index=['SY 2012', 'SY 2013', 'SY 2014', 'SY 2015'])"
   ]
  },
  {
   "cell_type": "code",
   "execution_count": 300,
   "metadata": {
    "collapsed": true
   },
   "outputs": [],
   "source": [
    "df = df.reset_index()"
   ]
  },
  {
   "cell_type": "code",
   "execution_count": 301,
   "metadata": {},
   "outputs": [
    {
     "data": {
      "text/html": [
       "<div>\n",
       "<style>\n",
       "    .dataframe thead tr:only-child th {\n",
       "        text-align: right;\n",
       "    }\n",
       "\n",
       "    .dataframe thead th {\n",
       "        text-align: left;\n",
       "    }\n",
       "\n",
       "    .dataframe tbody tr th {\n",
       "        vertical-align: top;\n",
       "    }\n",
       "</style>\n",
       "<table border=\"1\" class=\"dataframe\">\n",
       "  <thead>\n",
       "    <tr style=\"text-align: right;\">\n",
       "      <th></th>\n",
       "      <th>index</th>\n",
       "      <th>Avg. Teacher Attendance (%)</th>\n",
       "      <th>Bad Weather Days (%)</th>\n",
       "    </tr>\n",
       "  </thead>\n",
       "  <tbody>\n",
       "    <tr>\n",
       "      <th>0</th>\n",
       "      <td>SY 2012</td>\n",
       "      <td>99.709220</td>\n",
       "      <td>54.125413</td>\n",
       "    </tr>\n",
       "    <tr>\n",
       "      <th>1</th>\n",
       "      <td>SY 2013</td>\n",
       "      <td>93.431604</td>\n",
       "      <td>53.465347</td>\n",
       "    </tr>\n",
       "    <tr>\n",
       "      <th>2</th>\n",
       "      <td>SY 2014</td>\n",
       "      <td>93.307623</td>\n",
       "      <td>54.125413</td>\n",
       "    </tr>\n",
       "    <tr>\n",
       "      <th>3</th>\n",
       "      <td>SY 2015</td>\n",
       "      <td>93.983410</td>\n",
       "      <td>49.671053</td>\n",
       "    </tr>\n",
       "  </tbody>\n",
       "</table>\n",
       "</div>"
      ],
      "text/plain": [
       "     index  Avg. Teacher Attendance (%)  Bad Weather Days (%)\n",
       "0  SY 2012                    99.709220             54.125413\n",
       "1  SY 2013                    93.431604             53.465347\n",
       "2  SY 2014                    93.307623             54.125413\n",
       "3  SY 2015                    93.983410             49.671053"
      ]
     },
     "execution_count": 301,
     "metadata": {},
     "output_type": "execute_result"
    }
   ],
   "source": [
    "df"
   ]
  },
  {
   "cell_type": "code",
   "execution_count": 302,
   "metadata": {},
   "outputs": [
    {
     "data": {
      "image/png": "[encoded data removed]",
      "text/plain": [
       "<matplotlib.figure.Figure at 0x11d724ba8>"
      ]
     },
     "metadata": {},
     "output_type": "display_data"
    }
   ],
   "source": [
    "# Plot the data\n",
    "fig, ax = plt.subplots(figsize = (15,8))\n",
    "df.plot(x = ['index'], y = ['Avg. Teacher Attendance (%)'], kind = 'line', color = 'red', ax = ax)\n",
    "df.plot(x = ['index'], y = ['Bad Weather Days (%)'], kind = 'bar', color = 'green', ax = ax)\n",
    "plt.xlabel('School Year')\n",
    "plt.ylabel('Value')\n",
    "plt.grid('on')"
   ]
  },
  {
   "cell_type": "markdown",
   "metadata": {},
   "source": [
    "Since we don't have granular data on teacher attendance (i.e. we only have school-year-level data, not daily data) we can't conclude much from this graph. We still included it because we thought the method was interesting."
   ]
  },
  {
   "cell_type": "markdown",
   "metadata": {},
   "source": [
    "## Hypothesis 6: Better salaries lead to higher teacher attendance"
   ]
  },
  {
   "cell_type": "code",
   "execution_count": 303,
   "metadata": {
    "collapsed": true
   },
   "outputs": [],
   "source": [
    "emp13 = pd.read_csv('/Users/naomi/Desktop/CIS105/FinalProject/data/Employee/Jul2013/Employee_info_2013.csv')"
   ]
  },
  {
   "cell_type": "code",
   "execution_count": 304,
   "metadata": {},
   "outputs": [
    {
     "data": {
      "text/plain": [
       "array([1010, 1011, 1020, 1027, 1030, 1050, 1100, 1120, 1130, 1160, 1168,\n",
       "       1190, 1200, 1201, 1230, 1231, 1250, 1251, 1260, 1280, 1290, 1300,\n",
       "       1301, 1330, 1340, 1350, 1353, 1360, 1363, 1370, 1380, 1381, 1390,\n",
       "       1400, 1402, 1410, 1420, 1440, 1450, 1460, 1465, 1470, 1475, 1490,\n",
       "       1492, 1580, 1970, 2000, 2003, 2010, 2020, 2090, 2110, 2120, 2121,\n",
       "       2140, 2160, 2190, 2200, 2210, 2215, 2240, 2242, 2260, 2261, 2290,\n",
       "       2310, 2320, 2340, 2360, 2370, 2371, 2372, 2380, 2390, 2392, 2410,\n",
       "       2450, 2455, 2470, 2480, 2490, 2492, 2510, 2512, 2520, 2530, 2540,\n",
       "       2580, 2581, 2590, 2595, 2620, 2630, 2632, 2640, 2641, 2650, 2670,\n",
       "       2690, 2692, 2720, 2730, 2770, 3050, 3190, 3290, 3303, 3312, 3323,\n",
       "       3357, 3358, 3390, 3396, 3398, 3407, 3409, 3415, 3419, 3420, 3425,\n",
       "       3426, 3510, 3610, 3620, 3640, 3650, 3660, 3680, 3700, 3750, 4020,\n",
       "       4030, 4060, 4100, 4140, 4150, 4190, 4220, 4227, 4240, 4263, 4270,\n",
       "       4280, 4300, 4309, 4310, 4320, 4350, 4370, 4380, 4390, 4394, 4399,\n",
       "       4400, 4430, 4433, 4440, 4445, 4450, 4460, 4470, 4480, 4530, 4535,\n",
       "       4560, 4561, 4570, 4572, 4830, 5010, 5011, 5020, 5024, 5026, 5040,\n",
       "       5050, 5060, 5070, 5080, 5090, 5120, 5140, 5150, 5160, 5170, 5200,\n",
       "       5210, 5212, 5230, 5231, 5240, 5250, 5252, 5260, 5270, 5290, 5300,\n",
       "       5320, 5330, 5332, 5340, 5342, 5350, 5352, 5370, 5390, 5400, 5410,\n",
       "       5420, 5430, 5440, 5441, 5460, 5470, 5473, 5480, 5490, 5500, 5507,\n",
       "       5510, 5520, 5530, 5550, 5560, 5590, 5600, 5610, 5620, 5660, 5680,\n",
       "       5689, 6010, 6030, 6040, 6050, 6060, 6090, 6100, 6200, 6202, 6210,\n",
       "       6211, 6220, 6230, 6250, 6260, 6270, 6300, 6302, 6310, 6320, 6324,\n",
       "       6330, 6340, 6341, 6350, 6352, 6360, 6380, 6390, 6392, 6400, 6410,\n",
       "       6417, 6430, 6438, 6440, 6450, 6460, 6470, 6480, 6540, 6843, 6866,\n",
       "       7010, 7040, 7100, 7110, 7120, 7130, 7150, 7200, 7210, 7220, 7260,\n",
       "       7262, 7270, 7271, 7280, 7290, 7300, 7310, 7320, 7330, 7331, 7350,\n",
       "       7351, 7360, 7370, 7380, 7381, 7390, 7400, 7430, 7440, 7460, 7470,\n",
       "       7490, 7500, 7510, 7515, 7530, 7730, 7832, 8010, 8014, 8020, 8030,\n",
       "       8040, 8070, 8090, 8120, 8140, 8160, 8180, 8200, 8210, 8230, 8240,\n",
       "       8250, 8251, 8260, 8270, 8272, 8300, 8310, 8320, 8330, 8340, 8342,\n",
       "       8350, 8352, 8360, 8370, 8380, 8390, 8400, 8401, 8410, 8420, 8430,\n",
       "       8440, 8460, 8470, 8540, 8560, 8586, 8590, 8690, 8780, 8831, 8835,\n",
       "       9000, 9020, 9030, 9040, 9050, 9060, 9070, 9090, 9130, 9140, 9150,\n",
       "       9180, 9190, 9200, 9210, 9220, 9240, 9250, 9260, 9270, 9280, 9290,\n",
       "       9300, 9310, 9320, 9340, 9350, 9360, 9370, 9380, 9390, 9391, 9401,\n",
       "       9402, 9403, 9404, 9405, 9420, 9440, 9470, 9480, 9490, 9500, 9560,\n",
       "       9570, 9580, 9600, 9610, 9620, 9690, 9700, 9720, 9730, 9750, 9770,\n",
       "       9820, 9830, 9860, 9870, 9889, 9890, 9900, 9970])"
      ]
     },
     "execution_count": 304,
     "metadata": {},
     "output_type": "execute_result"
    }
   ],
   "source": [
    "np.unique(emp13['ULCS_NO'])"
   ]
  },
  {
   "cell_type": "code",
   "execution_count": 305,
   "metadata": {
    "collapsed": true
   },
   "outputs": [],
   "source": [
    "emp13['ULCS_NO'] = [int(i) for i in emp13['ULCS_NO']]"
   ]
  },
  {
   "cell_type": "code",
   "execution_count": 306,
   "metadata": {
    "collapsed": true
   },
   "outputs": [],
   "source": [
    "merged4 = emp13.merge(ta13, on='ULCS_NO')"
   ]
  },
  {
   "cell_type": "code",
   "execution_count": 307,
   "metadata": {},
   "outputs": [
    {
     "data": {
      "text/plain": [
       "Index(['LAST_NAME', 'FIRST_NAME', 'PAY_RATE_TYPE', 'PAY_RATE',\n",
       "       'TITLE_DESCRIPTION', 'ULCS_NO', 'HOME_ORGANIZATION_DESCRIPTION',\n",
       "       'ORGANIZATION_LEVEL', 'TYPE_OF_REPRESENTATION', 'GENDER', 'RUN_DATE',\n",
       "       'SCHOOL_YEAR', 'SCH_TEACHER_ATTEND', 'SDP_TEACHER_ATTEND', 'SCHOOL_ID'],\n",
       "      dtype='object')"
      ]
     },
     "execution_count": 307,
     "metadata": {},
     "output_type": "execute_result"
    }
   ],
   "source": [
    "merged4.columns"
   ]
  },
  {
   "cell_type": "code",
   "execution_count": 308,
   "metadata": {
    "collapsed": true
   },
   "outputs": [],
   "source": [
    "merged4_pivot = merged4.pivot_table('PAY_RATE', index='SCH_TEACHER_ATTEND')"
   ]
  },
  {
   "cell_type": "code",
   "execution_count": 309,
   "metadata": {
    "collapsed": true
   },
   "outputs": [],
   "source": [
    "merged4_pivot = merged4_pivot.reset_index()"
   ]
  },
  {
   "cell_type": "code",
   "execution_count": 310,
   "metadata": {
    "collapsed": true
   },
   "outputs": [],
   "source": [
    "merged4_pivot['PAY_RATE'] = merged4_pivot['PAY_RATE']/1000"
   ]
  },
  {
   "cell_type": "code",
   "execution_count": 311,
   "metadata": {},
   "outputs": [
    {
     "data": {
      "text/html": [
       "<div>\n",
       "<style>\n",
       "    .dataframe thead tr:only-child th {\n",
       "        text-align: right;\n",
       "    }\n",
       "\n",
       "    .dataframe thead th {\n",
       "        text-align: left;\n",
       "    }\n",
       "\n",
       "    .dataframe tbody tr th {\n",
       "        vertical-align: top;\n",
       "    }\n",
       "</style>\n",
       "<table border=\"1\" class=\"dataframe\">\n",
       "  <thead>\n",
       "    <tr style=\"text-align: right;\">\n",
       "      <th></th>\n",
       "      <th>SCH_TEACHER_ATTEND</th>\n",
       "      <th>PAY_RATE</th>\n",
       "    </tr>\n",
       "  </thead>\n",
       "  <tbody>\n",
       "    <tr>\n",
       "      <th>0</th>\n",
       "      <td>85.3</td>\n",
       "      <td>46.735207</td>\n",
       "    </tr>\n",
       "    <tr>\n",
       "      <th>1</th>\n",
       "      <td>86.4</td>\n",
       "      <td>48.034769</td>\n",
       "    </tr>\n",
       "    <tr>\n",
       "      <th>2</th>\n",
       "      <td>86.5</td>\n",
       "      <td>51.148048</td>\n",
       "    </tr>\n",
       "    <tr>\n",
       "      <th>3</th>\n",
       "      <td>86.9</td>\n",
       "      <td>49.179021</td>\n",
       "    </tr>\n",
       "    <tr>\n",
       "      <th>4</th>\n",
       "      <td>87.8</td>\n",
       "      <td>51.392357</td>\n",
       "    </tr>\n",
       "    <tr>\n",
       "      <th>5</th>\n",
       "      <td>88.0</td>\n",
       "      <td>53.036373</td>\n",
       "    </tr>\n",
       "    <tr>\n",
       "      <th>6</th>\n",
       "      <td>88.4</td>\n",
       "      <td>50.303786</td>\n",
       "    </tr>\n",
       "    <tr>\n",
       "      <th>7</th>\n",
       "      <td>88.5</td>\n",
       "      <td>46.167188</td>\n",
       "    </tr>\n",
       "    <tr>\n",
       "      <th>8</th>\n",
       "      <td>88.7</td>\n",
       "      <td>48.142852</td>\n",
       "    </tr>\n",
       "    <tr>\n",
       "      <th>9</th>\n",
       "      <td>88.8</td>\n",
       "      <td>45.375129</td>\n",
       "    </tr>\n",
       "    <tr>\n",
       "      <th>10</th>\n",
       "      <td>89.0</td>\n",
       "      <td>51.213119</td>\n",
       "    </tr>\n",
       "    <tr>\n",
       "      <th>11</th>\n",
       "      <td>89.6</td>\n",
       "      <td>57.136973</td>\n",
       "    </tr>\n",
       "    <tr>\n",
       "      <th>12</th>\n",
       "      <td>89.7</td>\n",
       "      <td>54.357562</td>\n",
       "    </tr>\n",
       "    <tr>\n",
       "      <th>13</th>\n",
       "      <td>89.8</td>\n",
       "      <td>52.736231</td>\n",
       "    </tr>\n",
       "    <tr>\n",
       "      <th>14</th>\n",
       "      <td>89.9</td>\n",
       "      <td>50.422553</td>\n",
       "    </tr>\n",
       "    <tr>\n",
       "      <th>15</th>\n",
       "      <td>90.0</td>\n",
       "      <td>53.446635</td>\n",
       "    </tr>\n",
       "    <tr>\n",
       "      <th>16</th>\n",
       "      <td>90.1</td>\n",
       "      <td>47.034000</td>\n",
       "    </tr>\n",
       "    <tr>\n",
       "      <th>17</th>\n",
       "      <td>90.2</td>\n",
       "      <td>51.992146</td>\n",
       "    </tr>\n",
       "    <tr>\n",
       "      <th>18</th>\n",
       "      <td>90.6</td>\n",
       "      <td>51.172162</td>\n",
       "    </tr>\n",
       "    <tr>\n",
       "      <th>19</th>\n",
       "      <td>90.7</td>\n",
       "      <td>49.104540</td>\n",
       "    </tr>\n",
       "    <tr>\n",
       "      <th>20</th>\n",
       "      <td>90.8</td>\n",
       "      <td>46.078122</td>\n",
       "    </tr>\n",
       "    <tr>\n",
       "      <th>21</th>\n",
       "      <td>90.9</td>\n",
       "      <td>54.089288</td>\n",
       "    </tr>\n",
       "    <tr>\n",
       "      <th>22</th>\n",
       "      <td>91.1</td>\n",
       "      <td>45.191638</td>\n",
       "    </tr>\n",
       "    <tr>\n",
       "      <th>23</th>\n",
       "      <td>91.2</td>\n",
       "      <td>47.230612</td>\n",
       "    </tr>\n",
       "    <tr>\n",
       "      <th>24</th>\n",
       "      <td>91.4</td>\n",
       "      <td>50.599200</td>\n",
       "    </tr>\n",
       "    <tr>\n",
       "      <th>25</th>\n",
       "      <td>91.5</td>\n",
       "      <td>51.048981</td>\n",
       "    </tr>\n",
       "    <tr>\n",
       "      <th>26</th>\n",
       "      <td>91.6</td>\n",
       "      <td>52.590382</td>\n",
       "    </tr>\n",
       "    <tr>\n",
       "      <th>27</th>\n",
       "      <td>91.7</td>\n",
       "      <td>54.720604</td>\n",
       "    </tr>\n",
       "    <tr>\n",
       "      <th>28</th>\n",
       "      <td>91.8</td>\n",
       "      <td>49.406194</td>\n",
       "    </tr>\n",
       "    <tr>\n",
       "      <th>29</th>\n",
       "      <td>91.9</td>\n",
       "      <td>51.901541</td>\n",
       "    </tr>\n",
       "    <tr>\n",
       "      <th>...</th>\n",
       "      <td>...</td>\n",
       "      <td>...</td>\n",
       "    </tr>\n",
       "    <tr>\n",
       "      <th>46</th>\n",
       "      <td>93.8</td>\n",
       "      <td>49.461158</td>\n",
       "    </tr>\n",
       "    <tr>\n",
       "      <th>47</th>\n",
       "      <td>93.9</td>\n",
       "      <td>56.118350</td>\n",
       "    </tr>\n",
       "    <tr>\n",
       "      <th>48</th>\n",
       "      <td>94.0</td>\n",
       "      <td>54.596984</td>\n",
       "    </tr>\n",
       "    <tr>\n",
       "      <th>49</th>\n",
       "      <td>94.1</td>\n",
       "      <td>50.171559</td>\n",
       "    </tr>\n",
       "    <tr>\n",
       "      <th>50</th>\n",
       "      <td>94.2</td>\n",
       "      <td>52.531403</td>\n",
       "    </tr>\n",
       "    <tr>\n",
       "      <th>51</th>\n",
       "      <td>94.3</td>\n",
       "      <td>52.348993</td>\n",
       "    </tr>\n",
       "    <tr>\n",
       "      <th>52</th>\n",
       "      <td>94.4</td>\n",
       "      <td>51.906432</td>\n",
       "    </tr>\n",
       "    <tr>\n",
       "      <th>53</th>\n",
       "      <td>94.5</td>\n",
       "      <td>51.612507</td>\n",
       "    </tr>\n",
       "    <tr>\n",
       "      <th>54</th>\n",
       "      <td>94.6</td>\n",
       "      <td>53.371776</td>\n",
       "    </tr>\n",
       "    <tr>\n",
       "      <th>55</th>\n",
       "      <td>94.7</td>\n",
       "      <td>54.894329</td>\n",
       "    </tr>\n",
       "    <tr>\n",
       "      <th>56</th>\n",
       "      <td>94.8</td>\n",
       "      <td>58.590526</td>\n",
       "    </tr>\n",
       "    <tr>\n",
       "      <th>57</th>\n",
       "      <td>95.0</td>\n",
       "      <td>51.593106</td>\n",
       "    </tr>\n",
       "    <tr>\n",
       "      <th>58</th>\n",
       "      <td>95.1</td>\n",
       "      <td>52.181872</td>\n",
       "    </tr>\n",
       "    <tr>\n",
       "      <th>59</th>\n",
       "      <td>95.2</td>\n",
       "      <td>52.962048</td>\n",
       "    </tr>\n",
       "    <tr>\n",
       "      <th>60</th>\n",
       "      <td>95.3</td>\n",
       "      <td>52.143021</td>\n",
       "    </tr>\n",
       "    <tr>\n",
       "      <th>61</th>\n",
       "      <td>95.4</td>\n",
       "      <td>52.265695</td>\n",
       "    </tr>\n",
       "    <tr>\n",
       "      <th>62</th>\n",
       "      <td>95.5</td>\n",
       "      <td>54.235307</td>\n",
       "    </tr>\n",
       "    <tr>\n",
       "      <th>63</th>\n",
       "      <td>95.6</td>\n",
       "      <td>52.301697</td>\n",
       "    </tr>\n",
       "    <tr>\n",
       "      <th>64</th>\n",
       "      <td>95.7</td>\n",
       "      <td>53.574631</td>\n",
       "    </tr>\n",
       "    <tr>\n",
       "      <th>65</th>\n",
       "      <td>95.8</td>\n",
       "      <td>52.627235</td>\n",
       "    </tr>\n",
       "    <tr>\n",
       "      <th>66</th>\n",
       "      <td>95.9</td>\n",
       "      <td>51.867057</td>\n",
       "    </tr>\n",
       "    <tr>\n",
       "      <th>67</th>\n",
       "      <td>96.0</td>\n",
       "      <td>50.993819</td>\n",
       "    </tr>\n",
       "    <tr>\n",
       "      <th>68</th>\n",
       "      <td>96.1</td>\n",
       "      <td>51.697335</td>\n",
       "    </tr>\n",
       "    <tr>\n",
       "      <th>69</th>\n",
       "      <td>96.2</td>\n",
       "      <td>61.050886</td>\n",
       "    </tr>\n",
       "    <tr>\n",
       "      <th>70</th>\n",
       "      <td>96.5</td>\n",
       "      <td>63.641063</td>\n",
       "    </tr>\n",
       "    <tr>\n",
       "      <th>71</th>\n",
       "      <td>96.6</td>\n",
       "      <td>55.887348</td>\n",
       "    </tr>\n",
       "    <tr>\n",
       "      <th>72</th>\n",
       "      <td>96.8</td>\n",
       "      <td>64.775324</td>\n",
       "    </tr>\n",
       "    <tr>\n",
       "      <th>73</th>\n",
       "      <td>97.2</td>\n",
       "      <td>49.760612</td>\n",
       "    </tr>\n",
       "    <tr>\n",
       "      <th>74</th>\n",
       "      <td>97.6</td>\n",
       "      <td>58.308460</td>\n",
       "    </tr>\n",
       "    <tr>\n",
       "      <th>75</th>\n",
       "      <td>98.1</td>\n",
       "      <td>47.049167</td>\n",
       "    </tr>\n",
       "  </tbody>\n",
       "</table>\n",
       "<p>76 rows × 2 columns</p>\n",
       "</div>"
      ],
      "text/plain": [
       "    SCH_TEACHER_ATTEND   PAY_RATE\n",
       "0                 85.3  46.735207\n",
       "1                 86.4  48.034769\n",
       "2                 86.5  51.148048\n",
       "3                 86.9  49.179021\n",
       "4                 87.8  51.392357\n",
       "5                 88.0  53.036373\n",
       "6                 88.4  50.303786\n",
       "7                 88.5  46.167188\n",
       "8                 88.7  48.142852\n",
       "9                 88.8  45.375129\n",
       "10                89.0  51.213119\n",
       "11                89.6  57.136973\n",
       "12                89.7  54.357562\n",
       "13                89.8  52.736231\n",
       "14                89.9  50.422553\n",
       "15                90.0  53.446635\n",
       "16                90.1  47.034000\n",
       "17                90.2  51.992146\n",
       "18                90.6  51.172162\n",
       "19                90.7  49.104540\n",
       "20                90.8  46.078122\n",
       "21                90.9  54.089288\n",
       "22                91.1  45.191638\n",
       "23                91.2  47.230612\n",
       "24                91.4  50.599200\n",
       "25                91.5  51.048981\n",
       "26                91.6  52.590382\n",
       "27                91.7  54.720604\n",
       "28                91.8  49.406194\n",
       "29                91.9  51.901541\n",
       "..                 ...        ...\n",
       "46                93.8  49.461158\n",
       "47                93.9  56.118350\n",
       "48                94.0  54.596984\n",
       "49                94.1  50.171559\n",
       "50                94.2  52.531403\n",
       "51                94.3  52.348993\n",
       "52                94.4  51.906432\n",
       "53                94.5  51.612507\n",
       "54                94.6  53.371776\n",
       "55                94.7  54.894329\n",
       "56                94.8  58.590526\n",
       "57                95.0  51.593106\n",
       "58                95.1  52.181872\n",
       "59                95.2  52.962048\n",
       "60                95.3  52.143021\n",
       "61                95.4  52.265695\n",
       "62                95.5  54.235307\n",
       "63                95.6  52.301697\n",
       "64                95.7  53.574631\n",
       "65                95.8  52.627235\n",
       "66                95.9  51.867057\n",
       "67                96.0  50.993819\n",
       "68                96.1  51.697335\n",
       "69                96.2  61.050886\n",
       "70                96.5  63.641063\n",
       "71                96.6  55.887348\n",
       "72                96.8  64.775324\n",
       "73                97.2  49.760612\n",
       "74                97.6  58.308460\n",
       "75                98.1  47.049167\n",
       "\n",
       "[76 rows x 2 columns]"
      ]
     },
     "execution_count": 311,
     "metadata": {},
     "output_type": "execute_result"
    }
   ],
   "source": [
    "merged4_pivot"
   ]
  },
  {
   "cell_type": "code",
   "execution_count": 312,
   "metadata": {},
   "outputs": [
    {
     "data": {
      "text/plain": [
       "<matplotlib.text.Text at 0x11f269518>"
      ]
     },
     "execution_count": 312,
     "metadata": {},
     "output_type": "execute_result"
    },
    {
     "data": {
      "image/png": "[encoded data removed]",
      "text/plain": [
       "<matplotlib.figure.Figure at 0x11f288940>"
      ]
     },
     "metadata": {},
     "output_type": "display_data"
    }
   ],
   "source": [
    "# Plot the data\n",
    "plt.scatter(merged4_pivot['PAY_RATE'], merged4_pivot['SCH_TEACHER_ATTEND'])\n",
    "plt.xlabel('Avg. Pay Rate (x 1000)')\n",
    "plt.ylabel('Teacher attendance (# Days in school)')"
   ]
  },
  {
   "cell_type": "code",
   "execution_count": 313,
   "metadata": {
    "collapsed": true
   },
   "outputs": [],
   "source": [
    "orig_slope4, b4 = np.polyfit(merged4_pivot['PAY_RATE'], merged4_pivot['SCH_TEACHER_ATTEND'], 1)"
   ]
  },
  {
   "cell_type": "code",
   "execution_count": 314,
   "metadata": {},
   "outputs": [
    {
     "data": {
      "text/plain": [
       "0.3410601979941541"
      ]
     },
     "execution_count": 314,
     "metadata": {},
     "output_type": "execute_result"
    }
   ],
   "source": [
    "orig_slope4"
   ]
  },
  {
   "cell_type": "markdown",
   "metadata": {},
   "source": [
    "### We can see a positive correlation- is it statistically significant?\n",
    "## Hypothesis testing <br>\n",
    "### H0: There is no correlation between teacher attendance and teacher salary <br>\n",
    "### H1: There is a positive correlation between teacher attendance and teacher salary"
   ]
  },
  {
   "cell_type": "code",
   "execution_count": 315,
   "metadata": {
    "collapsed": true
   },
   "outputs": [],
   "source": [
    "slopes4 = []\n",
    "num_samples4 = 5000\n",
    "for x in np.arange(1, num_samples4): \n",
    "    indices4 = np.random.choice(np.arange(0, len(merged4_pivot)), len(merged4_pivot), replace = False)\n",
    "    teach_attend = merged4_pivot['SCH_TEACHER_ATTEND']\n",
    "    score4 = merged4_pivot['PAY_RATE'][indices4]\n",
    "    new_slope, new_b = np.polyfit(score4, teach_attend, 1)\n",
    "    slopes4.append(new_slope)"
   ]
  },
  {
   "cell_type": "code",
   "execution_count": 316,
   "metadata": {},
   "outputs": [
    {
     "data": {
      "text/plain": [
       "(array([   15.,    96.,   308.,   701.,  1173.,  1311.,   884.,   393.,\n",
       "          107.,    11.]),\n",
       " array([-0.31069942, -0.24987607, -0.18905273, -0.12822938, -0.06740603,\n",
       "        -0.00658269,  0.05424066,  0.115064  ,  0.17588735,  0.2367107 ,\n",
       "         0.29753404]),\n",
       " <a list of 10 Patch objects>)"
      ]
     },
     "execution_count": 316,
     "metadata": {},
     "output_type": "execute_result"
    },
    {
     "data": {
      "image/png": "[encoded data removed]",
      "text/plain": [
       "<matplotlib.figure.Figure at 0x11f7a3a58>"
      ]
     },
     "metadata": {},
     "output_type": "display_data"
    }
   ],
   "source": [
    "plt.figure(figsize = (8, 5))\n",
    "plt.xlabel(\"Slopes\")\n",
    "plt.ylabel(\"Frequency\")\n",
    "plt.title(\"Correlation between pay rate and teacher attendance\")\n",
    "plt.hist(slopes4)"
   ]
  },
  {
   "cell_type": "code",
   "execution_count": 317,
   "metadata": {
    "collapsed": true
   },
   "outputs": [],
   "source": [
    "p_value4 = np.sum(np.array(slopes4) > orig_slope4)/ num_samples4"
   ]
  },
  {
   "cell_type": "code",
   "execution_count": 318,
   "metadata": {},
   "outputs": [
    {
     "data": {
      "text/plain": [
       "0.0"
      ]
     },
     "execution_count": 318,
     "metadata": {},
     "output_type": "execute_result"
    }
   ],
   "source": [
    "p_value4"
   ]
  },
  {
   "cell_type": "markdown",
   "metadata": {},
   "source": [
    "Since we have a p-value of ~0, we can reject our null hypothesis and conclude that there is a statistically significant positive correlation between teacher attendance and teacher salary."
   ]
  }
 ],
 "metadata": {
  "kernelspec": {
   "display_name": "Python 3",
   "language": "python",
   "name": "python3"
  },
  "language_info": {
   "codemirror_mode": {
    "name": "ipython",
    "version": 3
   },
   "file_extension": ".py",
   "mimetype": "text/x-python",
   "name": "python",
   "nbconvert_exporter": "python",
   "pygments_lexer": "ipython3",
   "version": "3.6.1"
  }
 },
 "nbformat": 4,
 "nbformat_minor": 2
}
